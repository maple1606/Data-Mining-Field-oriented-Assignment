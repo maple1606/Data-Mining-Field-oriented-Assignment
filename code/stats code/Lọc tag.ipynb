{
  "nbformat": 4,
  "nbformat_minor": 0,
  "metadata": {
    "colab": {
      "provenance": []
    },
    "kernelspec": {
      "name": "python3",
      "display_name": "Python 3"
    },
    "language_info": {
      "name": "python"
    }
  },
  "cells": [
    {
      "cell_type": "code",
      "source": [
        "from google.colab import drive\n",
        "drive.mount('/content/drive')"
      ],
      "metadata": {
        "colab": {
          "base_uri": "https://localhost:8080/"
        },
        "id": "17p2PFs9LZjr",
        "outputId": "22e9ee1a-0f87-45b1-b455-4c188344f9ed"
      },
      "execution_count": null,
      "outputs": [
        {
          "output_type": "stream",
          "name": "stdout",
          "text": [
            "Mounted at /content/drive\n"
          ]
        }
      ]
    },
    {
      "cell_type": "code",
      "execution_count": null,
      "metadata": {
        "colab": {
          "base_uri": "https://localhost:8080/"
        },
        "id": "ggLeFJ4fK1c-",
        "outputId": "be28dd5b-4eef-47ae-98cf-492304d7caa1"
      },
      "outputs": [
        {
          "output_type": "stream",
          "name": "stdout",
          "text": [
            "Link tsv: /content/drive/MyDrive/KPDLHLV/sample 2.tsv\n",
            "Tên tsv đầu ra: output_2.tsv\n",
            "Số hàng (gồm nhiều tag) thay đổi:  21590\n",
            "Số tag đã bị xoá:  72807\n",
            "Tổng số tag là:  496142\n",
            "Tỉ lệ:  14.67 %\n"
          ]
        }
      ],
      "source": [
        "import pandas as pd\n",
        "\n",
        "def filter_tags(row):\n",
        "    content_lower = row['content'].replace('_', ' ').lower()\n",
        "    tags_lower = [tag.lower() for tag in row['tags'].split(',')]\n",
        "\n",
        "    filtered_tags_lower = [tag for tag in tags_lower if tag in content_lower]\n",
        "\n",
        "    original_tags = row['tags'].split(',')\n",
        "    tag_map = {tag.lower(): tag for tag in original_tags}\n",
        "\n",
        "    filtered_tags = [tag_map[tag] for tag in filtered_tags_lower]\n",
        "\n",
        "    return ','.join(filtered_tags)\n",
        "\n",
        "def count_commas_change(s1, s2):\n",
        "    if not isinstance(s1, str):\n",
        "        raise ValueError(\"Đầu vào phải là một chuỗi.\")\n",
        "    if not isinstance(s2, str):\n",
        "        raise ValueError(\"Đầu vào phải là một chuỗi.\")\n",
        "    return s1.count(',') - s2.count(',')\n",
        "\n",
        "def count_tags():\n",
        "    num_tags = 0\n",
        "    for i in range(len(df)):\n",
        "        num_tags += df['tags'][i].count(',') + 1\n",
        "    return num_tags\n",
        "\n",
        "input_tsv =  str(input(\"Link tsv: \"))\n",
        "output_tsv = str(input(\"Tên tsv đầu ra: \"))\n",
        "\n",
        "df = pd.read_csv(input_tsv, sep='\\t',header=None)\n",
        "df.columns = ['content', 'tags']\n",
        "\n",
        "df['content'] = df['content'].fillna('')\n",
        "df['tags'] = df['tags'].fillna('')\n",
        "\n",
        "df['filtered_tags'] = df.apply(filter_tags, axis=1)\n",
        "\n",
        "change = 0\n",
        "for i in range(len(df)):\n",
        "    if (df['tags'][i] != df['filtered_tags'][i]):\n",
        "        change += 1\n",
        "print(\"Số hàng (gồm nhiều tag) thay đổi: \", change)\n",
        "\n",
        "tag_delete = 0\n",
        "for i in range(len(df)):\n",
        "    tag_delete += count_commas_change(df['tags'][i], df['filtered_tags'][i])\n",
        "\n",
        "print(\"Số tag đã bị xoá: \", tag_delete)\n",
        "print(\"Tổng số tag là: \", count_tags())\n",
        "print(\"Tỉ lệ: \", round(tag_delete/count_tags()*100, 2), \"%\")"
      ]
    },
    {
      "cell_type": "code",
      "source": [
        "df.to_csv(output_tsv, sep='\\t', index=False)"
      ],
      "metadata": {
        "id": "2UNoXdPsLh7z"
      },
      "execution_count": null,
      "outputs": []
    }
  ]
}