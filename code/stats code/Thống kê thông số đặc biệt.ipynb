{
  "cells": [
    {
      "cell_type": "code",
      "execution_count": null,
      "metadata": {
        "colab": {
          "base_uri": "https://localhost:8080/"
        },
        "id": "9oNezJeRiluY",
        "outputId": "1c7fc144-d445-4856-f448-f349248b2861"
      },
      "outputs": [
        {
          "output_type": "stream",
          "name": "stdout",
          "text": [
            "Mounted at /content/drive\n"
          ]
        }
      ],
      "source": [
        "from google.colab import drive\n",
        "drive.mount('/content/drive')"
      ]
    },
    {
      "cell_type": "code",
      "execution_count": null,
      "metadata": {
        "colab": {
          "base_uri": "https://localhost:8080/"
        },
        "id": "C8He1fH0imT3",
        "outputId": "46bb6b56-a200-4005-c47d-b64ef4d7ea51"
      },
      "outputs": [
        {
          "output_type": "stream",
          "name": "stdout",
          "text": [
            "Index(['content', 'tags'], dtype='object')\n",
            "object\n"
          ]
        }
      ],
      "source": [
        "import pandas as pd\n",
        "\n",
        "df = pd.read_csv('/content/drive/MyDrive/Data Mining Field-oriented/consolidated/tokenized_articles_training.tsv', sep='\\t')\n",
        "\n",
        "print(df.columns)\n",
        "print(df['content'].dtype)"
      ]
    },
    {
      "cell_type": "code",
      "execution_count": null,
      "metadata": {
        "colab": {
          "base_uri": "https://localhost:8080/"
        },
        "id": "bX7xpGss3-OI",
        "outputId": "3fd4f885-2fe5-4c58-b219-9a66927d37cb"
      },
      "outputs": [
        {
          "output_type": "stream",
          "name": "stdout",
          "text": [
            "Tổng số tag trong toàn bộ dữ liệu: 498108\n"
          ]
        }
      ],
      "source": [
        "total_tags = df['tags'].apply(lambda x: len(x.split(','))).sum()\n",
        "\n",
        "print(f\"Tổng số tag trong toàn bộ dữ liệu: {total_tags}\")"
      ]
    },
    {
      "cell_type": "code",
      "source": [
        "patterns = {\n",
        "    'date': r'\\b(?:0[1-9]|[12][0-9]|3[01])/(?:0[1-9]|1[0-2])/\\d{4}\\b|\\b(?:0[1-9]|1[0-2])/(?:0[1-9]|[12][0-9]|3[01])/\\d{4}\\b',\n",
        "    'special_tags': r'\\b[A-Za-z]+\\d+\\b|\\b\\d+[A-Za-z]+\\b|\\b\\d+[-_/][A-Za-z\\d]+(?:[-_/][A-Za-z\\d]+)*\\b',\n",
        "    'long_numbers': r'\\b\\d{6,}(?:[.,]\\d{3})*\\b(?![A-Za-z])',\n",
        "    'isbn_pattern': r'\\b(?:\\d{9}[\\dXx]|\\d{13})\\b',\n",
        "    'phone': r'\\b(?:\\+?\\d{1,3}[ -]?)?(?:\\d{2,4}[ -]?){2,3}\\d{3,4}\\b(?!-\\d{2}-\\d{4})',\n",
        "    'ip': r'\\b(?:\\d{1,3}\\.){3}\\d{1,3}\\b|\\b(?:[a-fA-F0-9]{1,4}:){7}[a-fA-F0-9]{1,4}\\b',\n",
        "    'percentage': r'\\b\\d+(?:,\\d+)?%\\b',\n",
        "    'score_pattern': r'\\b\\d{1,2}\\s*-\\s*\\d{1,2}\\b',\n",
        "    'time': r'\\b\\d{1,2}h(?:\\d{2})?\\b|\\b\\d{1,2}:\\d{2}\\b|\\b\\d{1,2}\\+\\d{1,2}\\b',\n",
        "    'comments': r'Ảnh\\s*:\\s*(?:@\\s*)?\\w+',\n",
        "    'mail' : r'\\b[A-Za-z0-9._%+-]+@[A-Za-z0-9.-]+\\.[A-Za-z]{2,}\\b',\n",
        "    'url' : r'\\b(?:https?://|www\\.)[^\\s/$.?#].[^\\s]*\\b'\n",
        "}\n",
        "\n",
        "def count_pattern_occurrences(pattern, text):\n",
        "    return len(re.findall(pattern, text))"
      ],
      "metadata": {
        "id": "NeiaILGIS6VS"
      },
      "execution_count": null,
      "outputs": []
    },
    {
      "cell_type": "code",
      "execution_count": null,
      "metadata": {
        "colab": {
          "base_uri": "https://localhost:8080/"
        },
        "id": "hpbIb9A84_iP",
        "outputId": "22997079-59a1-47b6-cd22-8c707f7151f0"
      },
      "outputs": [
        {
          "output_type": "stream",
          "name": "stdout",
          "text": [
            "Tần suất và phần trăm xuất hiện của date: 0.00, 0.00%\n",
            "Tần suất và phần trăm xuất hiện của long_numbers: 4.00, 0.00%\n",
            "Tần suất và phần trăm xuất hiện của isbn_pattern: 0.00, 0.00%\n",
            "Tần suất và phần trăm xuất hiện của ip: 0.00, 0.00%\n",
            "Tần suất và phần trăm xuất hiện của percentage: 0.00, 0.00%\n",
            "Tần suất và phần trăm xuất hiện của time: 1.00, 0.00%\n",
            "Tần suất và phần trăm xuất hiện của comments: 0.00, 0.00%\n",
            "Tần suất và phần trăm xuất hiện của mail: 0.00, 0.00%\n",
            "Tần suất và phần trăm xuất hiện của url: 0.00, 0.00%\n",
            "Chi tiết số lần xuất hiện đã được lưu vào file 'pattern_occurrences_details_tags.csv'\n"
          ]
        }
      ],
      "source": [
        "import pandas as pd\n",
        "import re\n",
        "\n",
        "pattern_counts = {key: 0 for key in patterns}\n",
        "\n",
        "detailed_counts = []\n",
        "\n",
        "for pattern_name, pattern in patterns.items():\n",
        "    tag_counts = df['tags'].apply(lambda x: count_pattern_occurrences(pattern, x))\n",
        "\n",
        "    for index, count in tag_counts.items():\n",
        "        if count > 0:\n",
        "            matched_patterns = re.findall(pattern, df.loc[index, 'content'])\n",
        "            if matched_patterns:\n",
        "                matched_patterns = [item if isinstance(item, str) else ''.join(item) for item in matched_patterns]\n",
        "\n",
        "                matched_patterns_str = ', '.join(matched_patterns)\n",
        "            else:\n",
        "                matched_patterns_str = ''\n",
        "\n",
        "            detailed_counts.append({\n",
        "                'index': index,\n",
        "                'matched_patterns': matched_patterns_str,\n",
        "                'pattern': pattern_name,\n",
        "                'count': count\n",
        "            })\n",
        "\n",
        "    pattern_counts[pattern_name] = tag_counts.sum()\n",
        "\n",
        "pattern_percentages = {key: (count / total_tags) * 100 for key, count in pattern_counts.items()}\n",
        "\n",
        "for pattern_name, percentage in pattern_percentages.items():\n",
        "    count = pattern_counts[pattern_name]\n",
        "    print(f\"Tần suất và phần trăm xuất hiện của {pattern_name}: {count:.2f}, {percentage:.2f}%\")\n",
        "\n",
        "detailed_output_file = 'pattern_occurrences_details_tags.csv'\n",
        "detailed_df = pd.DataFrame(detailed_counts)\n",
        "detailed_df.to_csv(detailed_output_file, index=False, encoding='utf-8-sig')\n",
        "\n",
        "print(f\"Chi tiết số lần xuất hiện đã được lưu vào file '{detailed_output_file}'\")"
      ]
    },
    {
      "cell_type": "code",
      "execution_count": null,
      "metadata": {
        "colab": {
          "base_uri": "https://localhost:8080/"
        },
        "id": "Hj4Pg9Mc6kP-",
        "outputId": "667fcda3-9058-4384-dc85-ea7c487172b7"
      },
      "outputs": [
        {
          "output_type": "stream",
          "name": "stdout",
          "text": [
            "Tần suất và phần trăm xuất hiện của date: 3896.00, 0.03%\n",
            "Tần suất và phần trăm xuất hiện của long_numbers: 269.00, 0.00%\n",
            "Tần suất và phần trăm xuất hiện của isbn_pattern: 68.00, 0.00%\n",
            "Tần suất và phần trăm xuất hiện của ip: 168.00, 0.00%\n",
            "Tần suất và phần trăm xuất hiện của percentage: 5.00, 0.00%\n",
            "Tần suất và phần trăm xuất hiện của time: 4419.00, 0.04%\n",
            "Tần suất và phần trăm xuất hiện của comments: 466.00, 0.00%\n",
            "Tần suất và phần trăm xuất hiện của mail: 91.00, 0.00%\n",
            "Tần suất và phần trăm xuất hiện của url: 295.00, 0.00%\n",
            "Chi tiết số lần xuất hiện đã được lưu vào file 'pattern_occurrences_detail_content.csv'\n"
          ]
        }
      ],
      "source": [
        "import pandas as pd\n",
        "import re\n",
        "\n",
        "def tokenize(text):\n",
        "    return re.findall(r'\\b\\w+(?:_\\w+)*\\b', text)\n",
        "\n",
        "\n",
        "total_tokens = df['content'].apply(lambda x: len(tokenize(x))).sum()\n",
        "\n",
        "pattern_counts = {key: 0 for key in patterns}\n",
        "\n",
        "detailed_counts = []\n",
        "\n",
        "for pattern_name, pattern in patterns.items():\n",
        "    tag_counts = df['content'].apply(lambda x: count_pattern_occurrences(pattern, x))\n",
        "\n",
        "    for index, count in tag_counts.items():\n",
        "        if count > 0:\n",
        "            matched_patterns = re.findall(pattern, df.loc[index, 'content'])\n",
        "            if matched_patterns:\n",
        "                matched_patterns = [item if isinstance(item, str) else ''.join(item) for item in matched_patterns]\n",
        "\n",
        "                matched_patterns_str = ', '.join(matched_patterns)\n",
        "            else:\n",
        "                matched_patterns_str = ''\n",
        "\n",
        "            detailed_counts.append({\n",
        "                'index': index,\n",
        "                'matched_patterns': matched_patterns_str,\n",
        "                'pattern': pattern_name,\n",
        "                'count': count\n",
        "            })\n",
        "\n",
        "    pattern_counts[pattern_name] = tag_counts.sum()\n",
        "\n",
        "pattern_percentages = {key: (count / total_tokens) * 100 for key, count in pattern_counts.items()}\n",
        "\n",
        "for pattern_name, percentage in pattern_percentages.items():\n",
        "    count = pattern_counts[pattern_name]\n",
        "    print(f\"Tần suất và phần trăm xuất hiện của {pattern_name}: {count:.2f}, {percentage:.2f}%\")\n",
        "\n",
        "detailed_output_file = 'pattern_occurrences_detail_content.csv'\n",
        "detailed_df = pd.DataFrame(detailed_counts)\n",
        "detailed_df.to_csv(detailed_output_file, index=False, encoding='utf-8-sig')\n",
        "\n",
        "print(f\"Chi tiết số lần xuất hiện đã được lưu vào file '{detailed_output_file}'\")"
      ]
    },
    {
      "cell_type": "code",
      "source": [
        "def remove_patterns(text, patterns):\n",
        "    for pattern in patterns.values():\n",
        "        text = re.sub(pattern, '', text)\n",
        "    return text"
      ],
      "metadata": {
        "id": "Zyh4hn-WWElx"
      },
      "execution_count": null,
      "outputs": []
    },
    {
      "cell_type": "code",
      "source": [
        "df['content'] = df['content'].apply(lambda x: remove_patterns(x, patterns))\n",
        "\n",
        "df.to_csv('cleaned_noise_1.csv', index=False, encoding='utf-8-sig')"
      ],
      "metadata": {
        "id": "KzSKzbKjWHqz"
      },
      "execution_count": null,
      "outputs": []
    },
    {
      "cell_type": "markdown",
      "source": [
        "# Test"
      ],
      "metadata": {
        "id": "RunS3YhcWeGq"
      }
    },
    {
      "cell_type": "code",
      "execution_count": null,
      "metadata": {
        "id": "edSTmmhs9RGW"
      },
      "outputs": [],
      "source": [
        "import re\n",
        "\n",
        "def remove_special_num(text):\n",
        "    pattern_date = (\n",
        "    r'\\b(?:0[1-9]|[12][0-9]|3[01])[/-](?:0[1-9]|1[0-2])[/-](?:\\d{2,4})\\b|'  # dd/mm/yyyy, dd-mm-yyyy\n",
        "    r'\\b(?:0[1-9]|[12][0-9]|3[01])[/-](?:0[1-9]|1[0-2])\\b|'                    # dd/mm, dd-mm\n",
        "    r'\\b(?:0[1-9]|1[0-2])[/-]\\d{4}\\b|'                                           # mm/yyyy, mm-dd\n",
        "    r'\\b(?:0[1-9]|1[0-2])/\\d{1,2}\\b'                                             # mm/dd\n",
        "    r'\\b\\d{1,2} (tháng )?\\d{1,2}( năm \\d{4})?\\b'  # 06 tháng 12 năm 2015\n",
        ")\n",
        "    text = re.sub(pattern_date, '', text)\n",
        "\n",
        "    tag_pattern = r'\\b[A-Za-z]+\\d+\\b|\\b\\d+[A-Za-z]+\\b|\\b\\d+[-_/][A-Za-z\\d]+(?:[-_/][A-Za-z\\d]+)*\\b'\n",
        "\n",
        "    preserved_tags = re.findall(tag_pattern, text)\n",
        "\n",
        "    text = re.sub(tag_pattern, '<TAG>', text)\n",
        "\n",
        "    pattern_long_numbers = r'\\b\\d{5,}\\b'\n",
        "    text = re.sub(pattern_long_numbers, '', text)\n",
        "\n",
        "    pattern_isbn = r'\\b\\d{1,3}(?:-\\d{1,5})+\\b'\n",
        "    text = re.sub(pattern_isbn, '', text)\n",
        "\n",
        "    pattern_version = r'\\bv?\\d+(?:[.,]\\d+)*\\b'  #v1.2.345, 1.2.3.4\n",
        "    text = re.sub(pattern_version, '', text)\n",
        "\n",
        "    pattern_phone = r'\\b(?:\\+?\\d{1,3}[ -]?)?(?:\\d{2,4}[ -\\.]?){2,3}\\d{2,4}\\b'\n",
        "    text = re.sub(pattern_phone, '', text)\n",
        "\n",
        "    pattern_ip = r'\\b(?:\\d{1,3}\\.){3}\\d{1,3}\\b|\\b(?:[a-fA-F0-9]{1,4}:){7}[a-fA-F0-9]{1,4}\\b'\n",
        "    text = re.sub(pattern_ip, '', text)\n",
        "\n",
        "    pattern_percentage = r'\\b\\d+(?:,\\d+)?%\\b'\n",
        "    text = re.sub(pattern_percentage, '', text)\n",
        "\n",
        "    pattern_score = r'\\b\\d+\\s*-\\s*\\d+\\b'\n",
        "    text = re.sub(pattern_score, '', text)\n",
        "\n",
        "    pattern_time = r'\\b\\d{1,2}h(?:\\d{2})?\\b|\\b\\d{1,2}:\\d{2}\\b|\\b\\d{1,2}\\+\\d{1,2}\\b'\n",
        "    text = re.sub(pattern_time, '', text)\n",
        "\n",
        "    text = re.sub(r'Ảnh: @ \\w+\\.?', '', text)\n",
        "\n",
        "    for tag in preserved_tags:\n",
        "        text = text.replace('<TAG>', tag, 1)\n",
        "\n",
        "    return text"
      ]
    },
    {
      "cell_type": "code",
      "execution_count": null,
      "metadata": {
        "id": "E_Yt1y_B0ouT"
      },
      "outputs": [],
      "source": [
        "dat = \"A02 , 12/8 , 1.2.3 , 2004 , 12/06/2015 12/2015 4K, CIIB2426001 , 102/2024/NĐ-CP , 2 , 79/2024 , 12h , 20.000 ; 123456 ; 123.456,789\""
      ]
    },
    {
      "cell_type": "code",
      "execution_count": null,
      "metadata": {
        "colab": {
          "base_uri": "https://localhost:8080/"
        },
        "id": "IFKp24s_1fRN",
        "outputId": "909946d7-5ef4-4668-d59b-c8430ef71957"
      },
      "outputs": [
        {
          "name": "stdout",
          "output_type": "stream",
          "text": [
            "A02 , 12/8 ,  ,  ,   4K, CIIB2426001 , 102/2024/NĐ-CP ,  , 79/2024 , 12h ,  ;  ; \n"
          ]
        }
      ],
      "source": [
        "text = remove_special_num(dat)\n",
        "print(text)"
      ]
    }
  ],
  "metadata": {
    "colab": {
      "provenance": []
    },
    "kernelspec": {
      "display_name": "Python 3",
      "name": "python3"
    },
    "language_info": {
      "name": "python"
    }
  },
  "nbformat": 4,
  "nbformat_minor": 0
}