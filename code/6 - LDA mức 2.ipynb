{
 "cells": [
  {
   "cell_type": "markdown",
   "metadata": {
    "id": "2TYYghZDIq2k"
   },
   "source": [
    "# Kết nối Drive"
   ]
  },
  {
   "cell_type": "code",
   "execution_count": null,
   "metadata": {
    "colab": {
     "base_uri": "https://localhost:8080/"
    },
    "executionInfo": {
     "elapsed": 27626,
     "status": "ok",
     "timestamp": 1734182390716,
     "user": {
      "displayName": "Minh Tâm",
      "userId": "15300610458250452379"
     },
     "user_tz": -420
    },
    "id": "4TDqzussIqJ8",
    "outputId": "a0ac3ab8-fbb9-4012-e597-5e34a5f1358d"
   },
   "outputs": [
    {
     "name": "stdout",
     "output_type": "stream",
     "text": [
      "Mounted at /content/drive\n"
     ]
    }
   ],
   "source": [
    "from google.colab import drive\n",
    "drive.mount('/content/drive')"
   ]
  },
  {
   "cell_type": "markdown",
   "metadata": {
    "id": "mjF56c2oIuoE"
   },
   "source": [
    "# Đọc dữ liệu"
   ]
  },
  {
   "cell_type": "code",
   "execution_count": null,
   "metadata": {
    "id": "0NRonqBvHAiP"
   },
   "outputs": [],
   "source": [
    "import os\n",
    "import pandas as pd"
   ]
  },
  {
   "cell_type": "code",
   "execution_count": null,
   "metadata": {
    "id": "vT4_oQNWK13I"
   },
   "outputs": [],
   "source": [
    "%cd /content/drive/MyDrive/Data Mining Field-oriented/data/consolidated/topic"
   ]
  },
  {
   "cell_type": "code",
   "execution_count": null,
   "metadata": {
    "id": "_mrPQYHBH_xw"
   },
   "outputs": [],
   "source": [
    "file_name = f\"Pháp_luật.tsv\"\n",
    "try:\n",
    "    df = pd.read_csv(file_name, sep=\"\\t\", encoding=\"utf-8\")\n",
    "except FileNotFoundError:\n",
    "    print(f\"File {file_name} not found.\")"
   ]
  },
  {
   "cell_type": "markdown",
   "metadata": {
    "id": "KXkzeJahPCca"
   },
   "source": [
    "# Xây dựng chủ đề ẩn bằng LDA"
   ]
  },
  {
   "cell_type": "code",
   "execution_count": null,
   "metadata": {
    "id": "Fnw8_kPtPkB7"
   },
   "outputs": [],
   "source": [
    "from gensim import corpora\n",
    "from gensim.models import LdaModel\n",
    "\n",
    "!pip3 install pyLDAvis\n",
    "import pyLDAvis\n",
    "import pyLDAvis.gensim_models as gensimvis"
   ]
  },
  {
   "cell_type": "markdown",
   "metadata": {
    "id": "oH0696tmcmRP"
   },
   "source": [
    "## Loại bỏ nhiễu khỏi văn bản"
   ]
  },
  {
   "cell_type": "code",
   "execution_count": null,
   "metadata": {
    "id": "8pY8MF0OckHN"
   },
   "outputs": [],
   "source": [
    "import re\n",
    "\n",
    "def preprocess(text):\n",
    "    text = str(text)\n",
    "    pattern_keep = r'(?<=[a-zA-Z0-9])(\\.|,)(?=[a-zA-Z0-9])|(?<=[a-zA-Z])\\.(?=\\s|,|$)'\n",
    "\n",
    "    text = re.sub(pattern_keep, r'\\1', text)\n",
    "\n",
    "    pattern_remove = r'[.,](?=\\s|$|[^a-zA-Z0-9])'\n",
    "    isbn_pattern = r'\\b(?:\\d{9}[\\dXx]|\\d{13})\\b'\n",
    "    ip_pattern = r'\\b(?:\\d{1,3}\\.){3}\\d{1,3}\\b|\\b(?:[a-fA-F0-9]{1,4}:){7}[a-fA-F0-9]{1,4}\\b'\n",
    "\n",
    "    cleaned_text = re.sub(pattern_remove, ' ', text)\n",
    "    cleaned_text = re.sub(isbn_pattern, ' ', cleaned_text)\n",
    "    cleaned_text = re.sub(ip_pattern, ' ', cleaned_text)\n",
    "\n",
    "    cleaned_text = re.sub(r'\\s{2,}', ' ', cleaned_text)\n",
    "    cleaned_text = re.sub(r'[/-]', ' ', cleaned_text)\n",
    "    cleaned_text = re.sub(r'\\b\\d+\\b', '', cleaned_text)\n",
    "    cleaned_text = re.sub(r'\\s{2,}', ' ', cleaned_text)\n",
    "\n",
    "    return cleaned_text.strip().split()"
   ]
  },
  {
   "cell_type": "markdown",
   "metadata": {
    "id": "yMhLV0uGOFcm"
   },
   "source": [
    "## Tạo từ điển và ma trận Bag-of-Words"
   ]
  },
  {
   "cell_type": "code",
   "execution_count": null,
   "metadata": {
    "colab": {
     "base_uri": "https://localhost:8080/"
    },
    "executionInfo": {
     "elapsed": 309,
     "status": "ok",
     "timestamp": 1734183478637,
     "user": {
      "displayName": "Minh Tâm",
      "userId": "15300610458250452379"
     },
     "user_tz": -420
    },
    "id": "8iqmFicTYQcv",
    "outputId": "8312fc0f-b186-4c2f-a266-9fa804fe99a5"
   },
   "outputs": [
    {
     "name": "stdout",
     "output_type": "stream",
     "text": [
      "/usr/local/lib/python3.10/dist-packages/ipykernel/ipkernel.py:283: DeprecationWarning: `should_run_async` will not call `transform_cell` automatically in the future. Please pass the result to `transformed_cell` argument and any exception that happen during thetransform in `preprocessing_exc_tuple` in IPython 7.17 and above.\n",
      " and should_run_async(code)\n",
      "Số lượng từ trong từ điển: 46612\n",
      "\n",
      "Ví dụ Bag-of-Words cho tài liệu đầu tiên: [(0, 1), (1, 16), (2, 1), (3, 1), (4, 1), (5, 1), (6, 1), (7, 2), (8, 1), (9, 1), (10, 1), (11, 1), (12, 2), (13, 3), (14, 1), (15, 1), (16, 1), (17, 1), (18, 2), (19, 2), (20, 1), (21, 1), (22, 1), (23, 2), (24, 1), (25, 1), (26, 2), (27, 2), (28, 2), (29, 2), (30, 1), (31, 3), (32, 2), (33, 1), (34, 1), (35, 2), (36, 1), (37, 1), (38, 1), (39, 1), (40, 2), (41, 1), (42, 1), (43, 1), (44, 2), (45, 1), (46, 1), (47, 1), (48, 1), (49, 1), (50, 1), (51, 12), (52, 1), (53, 1), (54, 1), (55, 2), (56, 1), (57, 1), (58, 1), (59, 1), (60, 1), (61, 1), (62, 1), (63, 3), (64, 2), (65, 1), (66, 1), (67, 1), (68, 1), (69, 1), (70, 1), (71, 1), (72, 1), (73, 2), (74, 1), (75, 6), (76, 2), (77, 9), (78, 1), (79, 2), (80, 1), (81, 1), (82, 2), (83, 1), (84, 1), (85, 1), (86, 1), (87, 1), (88, 1), (89, 1), (90, 3), (91, 10), (92, 1), (93, 1), (94, 1), (95, 1), (96, 2), (97, 1), (98, 2), (99, 1), (100, 5), (101, 1), (102, 3), (103, 1), (104, 1), (105, 1), (106, 1), (107, 2), (108, 1), (109, 2), (110, 1), (111, 1), (112, 1), (113, 1), (114, 1), (115, 1), (116, 1), (117, 2), (118, 1), (119, 1), (120, 1), (121, 1), (122, 1), (123, 1), (124, 1), (125, 1), (126, 1), (127, 1), (128, 1), (129, 2), (130, 2), (131, 1), (132, 2), (133, 1), (134, 1), (135, 1), (136, 1), (137, 2), (138, 2), (139, 3), (140, 1), (141, 1), (142, 1), (143, 1), (144, 1), (145, 6), (146, 1), (147, 1), (148, 1), (149, 1), (150, 2), (151, 3), (152, 1), (153, 1), (154, 2), (155, 1), (156, 3), (157, 1), (158, 1), (159, 1), (160, 1), (161, 1), (162, 1), (163, 1), (164, 1), (165, 1), (166, 1), (167, 1), (168, 1), (169, 1), (170, 1), (171, 1), (172, 1), (173, 1), (174, 1), (175, 2), (176, 2), (177, 1), (178, 1), (179, 1), (180, 1), (181, 1), (182, 1), (183, 1), (184, 1), (185, 1), (186, 1), (187, 3), (188, 3), (189, 3), (190, 2), (191, 4), (192, 1), (193, 2), (194, 3), (195, 1), (196, 15), (197, 1), (198, 1), (199, 1), (200, 1), (201, 1), (202, 1), (203, 2), (204, 1), (205, 1)]\n",
      "\n",
      "Toàn bộ từ trong tài liệu đầu tiên:\n",
      "['thị_trưởng', 'new_york_eric_adams', 'nhân_viên', 'fbi', 'chặn', 'đường', 'tham_dự', 'sự_kiện', 'công_khai', 'ban_đầu', 'không', 'che_giấu', 'cam_kết', 'hợp_tác', 'vụ', 'án', 'dần', 'phức_tạp', 'adams', 'giao_nộp', 'fbi', 'điện_thoại', 'không', 'thiết_bị', 'liên_lạc', 'hành_vi', 'vi_phạm', 'bản', 'cáo_trạng', 'công_tố_viên', 'hôm', 'adams', 'điện_thoại', 'fbi', 'thiết_bị', 'khoá', 'vị', 'thị_trưởng', 'mật_khẩu', 'tận', 'tức_là', 'năm', 'fbi', 'khoá', 'điện_thoại', 'đổi', 'mật_khẩu', 'bắt', 'tài_liệu', 'toà_án', 'adams', 'mật_khẩu', 'điều_tra', 'lo_sợ', 'dữ_liệu', 'điện_thoại', 'thành_viên', 'đội_ngũ', 'xoá', 'mật_khẩu', 'chữ_số', 'chữ_số', 'bảo_mật', 'thông_tin', 'hôm', 'mật_khẩu', 'không', 'người', 'nghi_ngờ', 'trung_thực', 'khai', 'adams_công', 'tố', 'viên', 'hagan_scotten', 'gọi', 'nước', 'cờ', 'lường', 'adam', 'khả_năng', 'ảnh_hưởng', 'nghiêm_trọng', 'diễn_biến', 'vụ', 'án', 'phiên', 'điều_trần', 'toà_án', 'liên_bang', 'manhattan', 'scotten', 'nhấn_mạnh', 'giải_mã', 'bắt', 'kịp', 'mã_hoá', 'không', 'truy_cập', 'thiết_bị', 'song', 'chuyên_gia', 'giải_mã', 'điện_thoại', 'adams', 'không', 'hề', 'dễ_dàng', 'tờ', 'new_york_post', 'trường_hợp', 'fbi', 'phá', 'khoá', 'thiết_bị', 'tương_tự', 'công_nghệ', 'công_ty', 'cellebrite', 'israel', 'điện_thoại', 'lớp', 'mã_hoá', 'adams', 'thử_thách', 'adams', 'quên', 'mật_khẩu', 'sự_cố', 'ý_muốn', 'cáo_buộc', 'xung_quanh', 'tham_gia', 'hành_vi', 'tham_nhũng', 'khoản', 'hối_lộ', 'nước_ngoài', 'dư_luận', 'không', 'hoài_nghi', 'bề', 'nổi', 'tảng', 'băng', 'chìm', 'cạnh', 'adams', 'quên', 'mật_khẩu', 'bản', 'cáo_trạng', 'trang', 'hàng_loạt', 'bằng_chứng', 'cộng_sự', 'cố_tình', 'che_giấu', 'hành_vi', 'phạm_tội', 'phỏng_vấn', 'fbi', 'nhân_viên', 'adams', 'phép', 'phòng', 'tắm', 'xoá', 'ứng_dụng', 'nhắn_tin', 'mã_hoá', 'liên_lạc', 'adams', 'đối_tác', 'quan_chức', 'người', 'thổ_nhĩ_kỳ', 'quản_lý', 'hàng_không', 'adams', 'nhân_viên', 'xoá', 'tin', 'nhắn_gửi', 'nhắn', 'ngắn_gọn', 'làm', 'thế', 'fbi', 'cáo_trạng', 'người', 'xung_quanh', 'adams', 'tổ_chức', 'quỹ', 'hợp_pháp', 'phương_tiện', 'khoản', 'tài_trợ', 'nước_ngoài', 'bất_hợp_pháp', 'thổ_nhĩ_kỳ', 'người', 'tổ_chức', 'sự_kiện', 'thuyết_trình', 'powerpoint', 'giả_mạo', 'che_đậy', 'bản_chất', 'sự_kiện', 'quỹ', 'chiến_dịch', 'tranh_cử', 'adams', 'năm', 'chi_tiết', 'thổ_nhĩ_kỳ', 'adams', 'cộng_sự', 'điện_thoại', 'phòng', 'họp', 'ghi', 'nội_dung', 'trò_chuyện', 'adams', 'cung_cấp', 'mật_khẩu', 'điện_thoại', 'dấy', 'nghi_ngờ', 'liệu', 'sự_cố', 'tình_cờ', 'một_cách', 'cản_trở', 'điều_tra', 'fbi', 'vụ', 'án', 'tranh_cãi', 'xung_quanh', 'bị_cáo', 'quyền', 'từ_chối', 'cung_cấp', 'mật_khẩu', 'điện_thoại', 'toà_án', 'phán_quyết', 'quyền', 'im_lặng', 'tu_chính', 'án', 'hiến_pháp', 'mỹ', 'quy_định', 'điều_tra_viên', 'buộc', 'nghi', 'phạm', 'tiết_lộ', 'mật_khẩu', 'điện_thoại', 'mật_mã', 'điện_thoại', 'coi', 'dạng', 'bằng_chứng', 'chứng_thực', 'testimonial', 'evidence', 'người', 'tiết_lộ', 'suy_nghĩ', 'face_id', 'touch_id', 'bật', 'thiết_bị', 'adams', 'fbi', 'khoá', 'điện_thoại', 'anh', 'ta', 'sinh', 'trắc', 'học', 'vốn', 'không', 'coi', 'dạng', 'bằng_chứng', 'chứng_thực', 'không', 'đầu', 'fbi', 'iphone', 'khoá', 'mã', 'công_cụ', 'điều_tra_viên', 'pittsburgh', 'không', 'đột_nhập', 'điện_thoại', 'kẻ', 'xả', 'súng', 'vận_động', 'trump', 'gửi', 'thiết_bị', 'phòng_thí_nghiệm', 'fbi', 'quantico', 'virginia_các', 'đặc_vụ', 'bẻ_khoá', 'vòng', 'điều_tra_viên', 'công_cụ', 'phát_hành', 'công_ty', 'cellebrite', 'israel', 'khoá', 'điện_thoại', 'kẻ', 'xả', 'súng', 'chuyên_gia', 'tờ', 'new_york_post', 'đột_nhập', 'điện_thoại', 'adams', 'fbi', 'vô_cùng']\n"
     ]
    }
   ],
   "source": [
    "df['content'] = df['content'].astype(str)\n",
    "documents = df['content'].apply(lambda x: x.split()).tolist()\n",
    "\n",
    "dictionary = corpora.Dictionary(documents)\n",
    "print(f\"Số lượng từ trong từ điển: {len(dictionary)}\")\n",
    "\n",
    "corpus = [dictionary.doc2bow(doc) for doc in documents]\n",
    "print(f\"Ví dụ Bag-of-Words cho tài liệu đầu tiên: {corpus[0]}\")"
   ]
  },
  {
   "cell_type": "markdown",
   "metadata": {
    "id": "Hpne4V8-PdRV"
   },
   "source": [
    "## Mô hình LDA"
   ]
  },
  {
   "cell_type": "code",
   "execution_count": null,
   "metadata": {
    "colab": {
     "base_uri": "https://localhost:8080/"
    },
    "executionInfo": {
     "elapsed": 475,
     "status": "ok",
     "timestamp": 1734183583850,
     "user": {
      "displayName": "Minh Tâm",
      "userId": "15300610458250452379"
     },
     "user_tz": -420
    },
    "id": "SZtBb2vFZO9_",
    "outputId": "12d4728a-edee-46dc-ac9a-8c645b0c11ee"
   },
   "outputs": [
    {
     "name": "stdout",
     "output_type": "stream",
     "text": [
      "\n",
      "Chủ đề LDA:\n",
      "Chủ đề 0:\n",
      "0.014*\"không\" + 0.012*\"công_ty\" + 0.011*\"tiền\" + 0.011*\"thông_tin\" + 0.010*\"số\" + 0.010*\"người\" + 0.010*\"bị_cáo\" + 0.009*\"đồng\" + 0.009*\"năm\" + 0.007*\"vụ\"\n",
      "\n",
      "Chủ đề 1:\n",
      "0.029*\"công_an\" + 0.018*\"đối_tượng\" + 0.014*\"điều_tra\" + 0.013*\"người\" + 0.012*\"tỉnh\" + 0.012*\"ma_tuý\" + 0.011*\"huyện\" + 0.009*\"cơ_quan\" + 0.008*\"tiền\" + 0.007*\"cảnh_sát\"\n",
      "\n",
      "Chủ đề 2:\n",
      "0.034*\"iphone\" + 0.020*\"người\" + 0.014*\"không\" + 0.014*\"apple\" + 0.009*\"pro\" + 0.008*\"tính_năng\" + 0.007*\"giá\" + 0.007*\"điện_thoại\" + 0.007*\"camera\" + 0.006*\"năm\"\n",
      "\n",
      "/usr/local/lib/python3.10/dist-packages/ipykernel/ipkernel.py:283: DeprecationWarning: `should_run_async` will not call `transform_cell` automatically in the future. Please pass the result to `transformed_cell` argument and any exception that happen during thetransform in `preprocessing_exc_tuple` in IPython 7.17 and above.\n",
      "  and should_run_async(code)\n",
      "\n"
     ]
    }
   ],
   "source": [
    "num_topics = 3\n",
    "\n",
    "lda_model = LdaModel(corpus, num_topics=num_topics, id2word=dictionary, passes=10)\n",
    "\n",
    "print(\"\\nChủ đề LDA:\")\n",
    "for idx, topic in lda_model.print_topics(-1):\n",
    "    print(f\"Chủ đề {idx}:\\n{topic}\\n\")"
   ]
  },
  {
   "cell_type": "markdown",
   "metadata": {
    "id": "I7Eoujghmi6I"
   },
   "source": [
    "## Đánh giá"
   ]
  },
  {
   "cell_type": "code",
   "execution_count": null,
   "metadata": {
    "id": "TVNtLFR1mmi-"
   },
   "outputs": [],
   "source": [
    "from gensim.models.coherencemodel import CoherenceModel\n",
    "\n",
    "def calculate_perplexity(lda_model, corpus):\n",
    "    return lda_model.log_perplexity(corpus)\n",
    "\n",
    "def calculate_coherence(lda_model, texts, dictionary, coherence_type='c_v'):\n",
    "    coherence_model = CoherenceModel(\n",
    "        model=lda_model,\n",
    "        texts=texts,\n",
    "        dictionary=dictionary,\n",
    "        coherence=coherence_type\n",
    "    )\n",
    "    return coherence_model.get_coherence()"
   ]
  },
  {
   "cell_type": "code",
   "execution_count": null,
   "metadata": {
    "id": "v020Pw7xqly7"
   },
   "outputs": [],
   "source": [
    "results = []\n",
    "\n",
    "num_topic = 3\n",
    "lda_model = LdaModel(corpus, num_topics=num_topic, id2word=dictionary, passes=5)\n",
    "\n",
    "# perplexity_score = calculate_perplexity(lda_model, corpus)\n",
    "\n",
    "# coherence_score = calculate_coherence(lda_model, documents, dictionary, coherence_type='c_v')\n",
    "\n",
    "results.append({\n",
    "    \"num_topics\": num_topic,\n",
    "    # \"perplexity\": perplexity_score,\n",
    "    # \"coherence_score\": coherence_score\n",
    "})"
   ]
  },
  {
   "cell_type": "markdown",
   "metadata": {
    "id": "UGOWXCf7coqj"
   },
   "source": [
    "## Thống kê chủ đề"
   ]
  },
  {
   "cell_type": "markdown",
   "metadata": {
    "id": "vkCcKJ64dJAz"
   },
   "source": [
    "### Thống kê theo số lượng"
   ]
  },
  {
   "cell_type": "code",
   "execution_count": null,
   "metadata": {
    "colab": {
     "base_uri": "https://localhost:8080/"
    },
    "executionInfo": {
     "elapsed": 319,
     "status": "ok",
     "timestamp": 1734183655684,
     "user": {
      "displayName": "Minh Tâm",
      "userId": "15300610458250452379"
     },
     "user_tz": -420
    },
    "id": "KbVq202cZndE",
    "outputId": "3f0fb7c5-5413-454f-c653-23a4d52f7874"
   },
   "outputs": [
    {
     "name": "stdout",
     "output_type": "stream",
     "text": [
      "\n",
      "/usr/local/lib/python3.10/dist-packages/ipykernel/ipkernel.py:283: DeprecationWarning: `should_run_async` will not call `transform_cell` automatically in the future. Please pass the result to `transformed_cell` argument and any exception that happen during thetransform in `preprocessing_exc_tuple` in IPython 7.17 and above.\n",
      "  and should_run_async(code)\n",
      "\n",
      "Số lượng tài liệu thuộc mỗi chủ đề:\n",
      "Chủ đề 2: 2909 tài liệu\n",
      "Chủ đề 0: 3578 tài liệu\n",
      "Chủ đề 1: 4987 tài liệu\n",
      "\n",
      "Tổng số tài liệu: 11474\n",
      "\n"
     ]
    }
   ],
   "source": [
    "from collections import Counter\n",
    "\n",
    "def get_stat(lda_model, corpus):\n",
    "    stat = []\n",
    "    for doc_bow in corpus:\n",
    "        topic_probs = lda_model.get_document_topics(doc_bow)\n",
    "        stat_count = max(topic_probs, key=lambda x: x[1])[0]\n",
    "        stat.append(stat_count)\n",
    "    return stat\n",
    "\n",
    "stat = get_stat(lda_model, corpus)\n",
    "\n",
    "topic_counts = Counter(stat)\n",
    "\n",
    "print(\"\\nSố lượng tài liệu thuộc mỗi chủ đề:\")\n",
    "for topic, count in topic_counts.items():\n",
    "    print(f\"Chủ đề {topic}: {count} tài liệu\")\n",
    "\n",
    "print(f\"\\nTổng số tài liệu: {sum(topic_counts.values())}\")"
   ]
  },
  {
   "cell_type": "markdown",
   "metadata": {
    "id": "jknrNxyNc_LE"
   },
   "source": [
    "### Lấy ra 200 từ nổi bật"
   ]
  },
  {
   "cell_type": "code",
   "execution_count": null,
   "metadata": {
    "colab": {
     "base_uri": "https://localhost:8080/"
    },
    "executionInfo": {
     "elapsed": 454,
     "status": "ok",
     "timestamp": 1733144178602,
     "user": {
      "displayName": "Minh Tâm",
      "userId": "15300610458250452379"
     },
     "user_tz": -420
    },
    "id": "OM9l80XNdaDo",
    "outputId": "5638936a-aed5-4b22-8ade-b610ebc8b074"
   },
   "outputs": [
    {
     "name": "stdout",
     "output_type": "stream",
     "text": [
      "/content/drive/.shortcut-targets-by-id/1RRu-R6hm1MkKpo2-XcloxTBP7mzJuoJU/KPDLHLV /stats\n"
     ]
    },
    {
     "name": "stderr",
     "output_type": "stream",
     "text": [
      "/usr/local/lib/python3.10/dist-packages/ipykernel/ipkernel.py:283: DeprecationWarning: `should_run_async` will not call `transform_cell` automatically in the future. Please pass the result to `transformed_cell` argument and any exception that happen during thetransform in `preprocessing_exc_tuple` in IPython 7.17 and above.\n",
      "  and should_run_async(code)\n"
     ]
    }
   ],
   "source": [
    "%cd /content/drive/MyDrive/Data Mining Field-oriented/stats/topic/subtopic"
   ]
  },
  {
   "cell_type": "code",
   "execution_count": null,
   "metadata": {
    "id": "pwsVG_Zgb0IC"
   },
   "outputs": [],
   "source": [
    "def export_topics_to_csv(lda_model, num_topics, dictionary, output_file):\n",
    "    topics = {}\n",
    "    for topic_id in range(num_topics):\n",
    "        topic_words = lda_model.show_topic(topic_id, topn=200)\n",
    "        topics[f\"Chủ đề {topic_id}\"] = [word for word, weight in topic_words]\n",
    "\n",
    "    topic_df = pd.DataFrame.from_dict(topics, orient=\"index\").transpose()\n",
    "\n",
    "    topic_df.to_csv(output_file, index=False, encoding=\"utf-8-sig\")\n",
    "\n",
    "output_file = \"topic_words_Pháp_luật.csv\"\n",
    "export_topics_to_csv(lda_model, num_topics, dictionary, output_file)"
   ]
  },
  {
   "cell_type": "markdown",
   "metadata": {
    "id": "4WT_0FBGnKdi"
   },
   "source": [
    "### Thống kê tài liệu theo các chủ đề ẩn"
   ]
  },
  {
   "cell_type": "code",
   "execution_count": null,
   "metadata": {
    "colab": {
     "base_uri": "https://localhost:8080/"
    },
    "executionInfo": {
     "elapsed": 436,
     "status": "ok",
     "timestamp": 1733144191565,
     "user": {
      "displayName": "Minh Tâm",
      "userId": "15300610458250452379"
     },
     "user_tz": -420
    },
    "id": "_GshztZ1haHc",
    "outputId": "109fcfdb-df00-4db6-da18-532f59eaba94"
   },
   "outputs": [
    {
     "name": "stderr",
     "output_type": "stream",
     "text": [
      "/usr/local/lib/python3.10/dist-packages/ipykernel/ipkernel.py:283: DeprecationWarning: `should_run_async` will not call `transform_cell` automatically in the future. Please pass the result to `transformed_cell` argument and any exception that happen during thetransform in `preprocessing_exc_tuple` in IPython 7.17 and above.\n",
      "  and should_run_async(code)\n"
     ]
    }
   ],
   "source": [
    "def get_documents_topic_distribution_with_content(lda_model, corpus, num_topics, content_list, top_n=5):\n",
    "    data = []\n",
    "    for doc_index, doc_bow in enumerate(corpus):\n",
    "        topic_probs = lda_model.get_document_topics(doc_bow, minimum_probability=0)\n",
    "        topic_probs_sorted = sorted(topic_probs, key=lambda x: x[1], reverse=True)[:top_n]\n",
    "\n",
    "        row = {\"Tài liệu\": f\"Tài liệu {doc_index + 1}\", \"Nội dung\": content_list[doc_index]}\n",
    "        for i, (topic_id, prob) in enumerate(topic_probs_sorted):\n",
    "            row[f\"Chủ đề {i + 1}\"] = f\"Chủ đề {topic_id} ({prob:.2%})\"\n",
    "        data.append(row)\n",
    "    return pd.DataFrame(data)"
   ]
  },
  {
   "cell_type": "code",
   "execution_count": null,
   "metadata": {
    "id": "nlliPYQpiXsY"
   },
   "outputs": [],
   "source": [
    "content_list = df['content'].tolist()\n",
    "\n",
    "top_n_topics = 5\n",
    "documents_topic_df_with_content = get_documents_topic_distribution_with_content(\n",
    "    lda_model, corpus, num_topics, content_list, top_n=top_n_topics\n",
    ")\n",
    "\n",
    "documents_with_content_output_file = \"stats_for_Pháp_luật.csv\"\n",
    "documents_topic_df_with_content.to_csv(documents_with_content_output_file, index=False, encoding=\"utf-8-sig\")"
   ]
  }
 ],
 "metadata": {
  "colab": {
   "authorship_tag": "ABX9TyP3zMXLl/DoilkDgnnR31Ba",
   "provenance": [
    {
     "file_id": "1P_Nkk3Dw84epvaC8oBD8YvGVVjywqSWg",
     "timestamp": 1734183053573
    },
    {
     "file_id": "1q00atNZ8sIw-UgXTqIeGa5A0MtzK5FF0",
     "timestamp": 1733148130712
    }
   ]
  },
  "kernelspec": {
   "display_name": "Python 3",
   "name": "python3"
  },
  "language_info": {
   "name": "python"
  }
 },
 "nbformat": 4,
 "nbformat_minor": 0
}
