{
 "cells": [
  {
   "cell_type": "markdown",
   "metadata": {
    "id": "2TYYghZDIq2k"
   },
   "source": [
    "# Kết nối Drive"
   ]
  },
  {
   "cell_type": "code",
   "execution_count": null,
   "metadata": {
    "colab": {
     "base_uri": "https://localhost:8080/"
    },
    "executionInfo": {
     "elapsed": 27626,
     "status": "ok",
     "timestamp": 1734182390716,
     "user": {
      "displayName": "Minh Tâm",
      "userId": "15300610458250452379"
     },
     "user_tz": -420
    },
    "id": "4TDqzussIqJ8",
    "outputId": "a0ac3ab8-fbb9-4012-e597-5e34a5f1358d"
   },
   "outputs": [
    {
     "name": "stdout",
     "output_type": "stream",
     "text": [
      "Mounted at /content/drive\n"
     ]
    }
   ],
   "source": [
    "from google.colab import drive\n",
    "drive.mount('/content/drive')"
   ]
  },
  {
   "cell_type": "markdown",
   "metadata": {
    "id": "mjF56c2oIuoE"
   },
   "source": [
    "# Đọc dữ liệu"
   ]
  },
  {
   "cell_type": "code",
   "execution_count": null,
   "metadata": {
    "id": "0NRonqBvHAiP"
   },
   "outputs": [],
   "source": [
    "import os\n",
    "import pandas as pd"
   ]
  },
  {
   "cell_type": "code",
   "execution_count": null,
   "metadata": {
    "id": "vT4_oQNWK13I"
   },
   "outputs": [],
   "source": [
    "%cd /content/drive/MyDrive/Data Mining Field-oriented/data/consolidated"
   ]
  },
  {
   "cell_type": "code",
   "execution_count": null,
   "metadata": {
    "id": "_mrPQYHBH_xw"
   },
   "outputs": [],
   "source": [
    "file_name = f\"cleaned_articles_training.tsv\"\n",
    "try:\n",
    "    df = pd.read_csv(file_name, sep=\"\\t\", encoding=\"utf-8\")\n",
    "except FileNotFoundError:\n",
    "    print(f\"File {file_name} not found.\")"
   ]
  },
  {
   "cell_type": "markdown",
   "metadata": {
    "id": "KXkzeJahPCca"
   },
   "source": [
    "# Xây dựng chủ đề ẩn bằng LDA"
   ]
  },
  {
   "cell_type": "code",
   "execution_count": null,
   "metadata": {
    "id": "Fnw8_kPtPkB7"
   },
   "outputs": [],
   "source": [
    "from gensim import corpora\n",
    "from gensim.models import LdaModel\n",
    "\n",
    "!pip3 install pyLDAvis\n",
    "import pyLDAvis\n",
    "import pyLDAvis.gensim_models as gensimvis"
   ]
  },
  {
   "cell_type": "markdown",
   "metadata": {
    "id": "O55yctN-cGdC"
   },
   "source": [
    "## Loại bỏ nhiễu khỏi văn bản"
   ]
  },
  {
   "cell_type": "code",
   "execution_count": null,
   "metadata": {
    "id": "xumqBTXIcKzO"
   },
   "outputs": [],
   "source": [
    "import re\n",
    "\n",
    "def preprocess(text):\n",
    "    text = str(text)\n",
    "    pattern_keep = r'(?<=[a-zA-Z0-9])(\\.|,)(?=[a-zA-Z0-9])|(?<=[a-zA-Z])\\.(?=\\s|,|$)'\n",
    "\n",
    "    # isbn_pattern = r'\\b(?:\\d{9}[\\dXx]|\\d{13})\\b'\n",
    "    # ip_pattern = r'\\b(?:\\d{1,3}\\.){3}\\d{1,3}\\b|\\b(?:[a-fA-F0-9]{1,4}:){7}[a-fA-F0-9]{1,4}\\b'\n",
    "\n",
    "    text = re.sub(pattern_keep, r'\\1', text)\n",
    "\n",
    "    pattern_remove = r'[.,](?=\\s|$|[^a-zA-Z0-9])'\n",
    "    cleaned_text = re.sub(pattern_remove, ' ', text)\n",
    "\n",
    "    cleaned_text = re.sub(r'\\s{2,}', ' ', cleaned_text)\n",
    "    cleaned_text = re.sub(r'[/-]', ' ', cleaned_text)\n",
    "    cleaned_text = re.sub(r'\\b\\d+\\b', '', cleaned_text)\n",
    "    cleaned_text = re.sub(r'\\s{2,}', ' ', cleaned_text)\n",
    "\n",
    "    return cleaned_text.strip().split()"
   ]
  },
  {
   "cell_type": "markdown",
   "metadata": {
    "id": "yMhLV0uGOFcm"
   },
   "source": [
    "## Tạo từ điển và ma trận Bag-of-Words"
   ]
  },
  {
   "cell_type": "code",
   "execution_count": null,
   "metadata": {
    "colab": {
     "base_uri": "https://localhost:8080/"
    },
    "executionInfo": {
     "elapsed": 72251,
     "status": "ok",
     "timestamp": 1733142315379,
     "user": {
      "displayName": "Minh Tâm",
      "userId": "15300610458250452379"
     },
     "user_tz": -420
    },
    "id": "JQMxPoVXOMUs",
    "outputId": "8a40cd5a-ac05-46ce-b8a6-5c90351cfa93"
   },
   "outputs": [
    {
     "name": "stderr",
     "output_type": "stream",
     "text": [
      "/usr/local/lib/python3.10/dist-packages/ipykernel/ipkernel.py:283: DeprecationWarning: `should_run_async` will not call `transform_cell` automatically in the future. Please pass the result to `transformed_cell` argument and any exception that happen during thetransform in `preprocessing_exc_tuple` in IPython 7.17 and above.\n",
      "  and should_run_async(code)\n"
     ]
    },
    {
     "name": "stdout",
     "output_type": "stream",
     "text": [
      "Số lượng từ trong từ điển: 444710\n",
      "Ví dụ Bag-of-Words cho tài liệu đầu tiên: [(0, 1), (1, 1), (2, 1), (3, 1), (4, 1), (5, 2), (6, 1), (7, 1), (8, 1), (9, 1), (10, 1), (11, 1), (12, 4), (13, 2), (14, 1), (15, 1), (16, 1), (17, 1), (18, 1), (19, 1), (20, 1), (21, 1), (22, 2), (23, 1), (24, 1), (25, 1), (26, 1), (27, 1), (28, 1), (29, 1), (30, 2), (31, 1), (32, 1), (33, 3), (34, 1), (35, 1), (36, 1), (37, 1), (38, 1), (39, 1), (40, 1), (41, 1), (42, 2), (43, 1), (44, 1), (45, 1), (46, 1), (47, 1), (48, 1), (49, 1), (50, 1), (51, 1), (52, 1), (53, 1), (54, 1), (55, 1), (56, 1), (57, 1), (58, 1), (59, 1), (60, 1), (61, 1), (62, 1), (63, 1), (64, 1), (65, 1), (66, 5), (67, 1), (68, 1), (69, 1), (70, 1), (71, 1), (72, 2), (73, 1), (74, 1), (75, 1), (76, 2), (77, 1), (78, 1), (79, 1), (80, 1), (81, 1), (82, 1), (83, 1), (84, 1), (85, 2), (86, 1), (87, 2), (88, 1), (89, 1), (90, 1), (91, 1), (92, 1), (93, 1), (94, 1), (95, 1), (96, 1), (97, 1), (98, 1)]\n"
     ]
    }
   ],
   "source": [
    "df['content'] = df['content'].astype(str)\n",
    "documents = df['content'].apply(lambda x: x.split()).tolist()\n",
    "\n",
    "dictionary = corpora.Dictionary(documents)\n",
    "print(f\"Số lượng từ trong từ điển: {len(dictionary)}\")\n",
    "\n",
    "corpus = [dictionary.doc2bow(doc) for doc in documents]\n",
    "print(f\"Ví dụ Bag-of-Words cho tài liệu đầu tiên: {corpus[0]}\")"
   ]
  },
  {
   "cell_type": "markdown",
   "metadata": {
    "id": "Hpne4V8-PdRV"
   },
   "source": [
    "## Mô hình LDA"
   ]
  },
  {
   "cell_type": "code",
   "execution_count": null,
   "metadata": {
    "colab": {
     "base_uri": "https://localhost:8080/"
    },
    "executionInfo": {
     "elapsed": 1194825,
     "status": "ok",
     "timestamp": 1733143919567,
     "user": {
      "displayName": "Minh Tâm",
      "userId": "15300610458250452379"
     },
     "user_tz": -420
    },
    "id": "8Yj2uxx1PiKg",
    "outputId": "43a4193c-4381-41e9-8584-6900fcb6279f"
   },
   "outputs": [
    {
     "name": "stderr",
     "output_type": "stream",
     "text": [
      "/usr/local/lib/python3.10/dist-packages/ipykernel/ipkernel.py:283: DeprecationWarning: `should_run_async` will not call `transform_cell` automatically in the future. Please pass the result to `transformed_cell` argument and any exception that happen during thetransform in `preprocessing_exc_tuple` in IPython 7.17 and above.\n",
      "  and should_run_async(code)\n"
     ]
    },
    {
     "name": "stdout",
     "output_type": "stream",
     "text": [
      "\n",
      "Chủ đề LDA:\n",
      "Chủ đề 0:\n",
      "0.016*\"quy_định\" + 0.012*\"Luật\" + 0.011*\"đất\" + 0.011*\"dự_án\" + 0.009*\"đầu_tư\" + 0.008*\"Bộ\" + 0.007*\"Quốc_hội\" + 0.007*\"năm\" + 0.007*\"người\" + 0.007*\"đối_với\"\n",
      "\n",
      "Chủ đề 1:\n",
      "0.021*\"người\" + 0.010*\"làm\" + 0.008*\"anh\" + 0.007*\"sự\" + 0.007*\"đi\" + 0.006*\"giúp\" + 0.004*\"món\" + 0.004*\"nhà\" + 0.004*\"nước\" + 0.003*\"gia_đình\"\n",
      "\n",
      "Chủ đề 2:\n",
      "0.023*\"Việt_Nam\" + 0.019*\"phát_triển\" + 0.014*\"sự\" + 0.011*\"nước\" + 0.009*\"cao\" + 0.009*\"năm\" + 0.008*\"hợp_tác\" + 0.008*\"hai\" + 0.007*\"kinh_tế\" + 0.007*\"doanh_nghiệp\"\n",
      "\n",
      "Chủ đề 3:\n",
      "0.015*\"người\" + 0.012*\"Công_an\" + 0.008*\"tỉnh\" + 0.008*\"tiền\" + 0.008*\"đối_tượng\" + 0.007*\"số\" + 0.007*\"thông_tin\" + 0.007*\"bệnh\" + 0.007*\"huyện\" + 0.006*\"vụ\"\n",
      "\n",
      "Chủ đề 4:\n",
      "0.016*\"điện\" + 0.014*\"sản_phẩm\" + 0.010*\"16\" + 0.009*\"Apple\" + 0.009*\"xe\" + 0.009*\"hàng\" + 0.009*\"sản_xuất\" + 0.008*\"khách_hàng\" + 0.008*\"giá\" + 0.007*\"công_nghệ\"\n",
      "\n",
      "Chủ đề 5:\n",
      "0.015*\"tỉnh\" + 0.012*\"công_tác\" + 0.011*\"tổ_chức\" + 0.009*\"xây_dựng\" + 0.009*\"Ban\" + 0.008*\"năm\" + 0.008*\"Chủ_tịch\" + 0.007*\"huyện\" + 0.006*\"nhiệm_vụ\" + 0.006*\"Trung_ương\"\n",
      "\n",
      "Chủ đề 6:\n",
      "0.017*\"người\" + 0.012*\"iPhone\" + 0.010*\"Israel\" + 0.010*\"Mỹ\" + 0.008*\"tấn_công\" + 0.007*\"Nga\" + 0.007*\"năm\" + 0.007*\"sự\" + 0.006*\"Ukraine\" + 0.004*\"nước\"\n",
      "\n",
      "Chủ đề 7:\n",
      "0.031*\"thi\" + 0.025*\"điểm\" + 0.023*\"ngành\" + 0.021*\"Trường\" + 0.021*\"trường\" + 0.018*\"năm\" + 0.018*\"Đại_học\" + 0.017*\"xét\" + 0.017*\"học\" + 0.014*\"học_sinh\"\n",
      "\n",
      "Chủ đề 8:\n",
      "0.027*\"đồng\" + 0.025*\"tỷ\" + 0.023*\"giá\" + 0.020*\"năm\" + 0.019*\"triệu\" + 0.011*\"thị_trường\" + 0.009*\"bán\" + 0.009*\"USD\" + 0.009*\"mua\" + 0.009*\"đồng,\"\n",
      "\n",
      "Chủ đề 9:\n",
      "0.017*\"du_lịch\" + 0.016*\"năm\" + 0.011*\"phim\" + 0.010*\"văn_hoá\" + 0.010*\"sự\" + 0.009*\"bộ\" + 0.009*\"Hà_Nội\" + 0.007*\"du_khách\" + 0.007*\"đẹp\" + 0.007*\"diễn\"\n",
      "\n",
      "Chủ đề 10:\n",
      "0.022*\"trận\" + 0.017*\"đội\" + 0.015*\"giải\" + 0.014*\"đấu\" + 0.012*\"bóng\" + 0.010*\"HLV\" + 0.010*\"Việt_Nam\" + 0.010*\"cầu_thủ\" + 0.009*\"2\" + 0.008*\"thi_đấu\"\n",
      "\n",
      "Chủ đề 11:\n",
      "0.016*\"tỉnh\" + 0.013*\"khu_vực\" + 0.012*\"bão\" + 0.012*\"đường\" + 0.011*\"tuyến\" + 0.009*\"huyện\" + 0.009*\"biển\" + 0.008*\"cấp\" + 0.007*\"khu\" + 0.006*\"người_dân\"\n",
      "\n"
     ]
    }
   ],
   "source": [
    "num_topics = 12\n",
    "\n",
    "lda_model = LdaModel(corpus, num_topics=num_topics, id2word=dictionary, passes=10)\n",
    "\n",
    "print(\"\\nChủ đề LDA:\")\n",
    "for idx, topic in lda_model.print_topics(-1):\n",
    "    print(f\"Chủ đề {idx}:\\n{topic}\\n\")"
   ]
  },
  {
   "cell_type": "markdown",
   "metadata": {
    "id": "I7Eoujghmi6I"
   },
   "source": [
    "## Đánh giá"
   ]
  },
  {
   "cell_type": "code",
   "execution_count": null,
   "metadata": {
    "id": "TVNtLFR1mmi-"
   },
   "outputs": [],
   "source": [
    "from gensim.models.coherencemodel import CoherenceModel\n",
    "\n",
    "def calculate_perplexity(lda_model, corpus):\n",
    "    return lda_model.log_perplexity(corpus)\n",
    "\n",
    "def calculate_coherence(lda_model, texts, dictionary, coherence_type='c_v'):\n",
    "    coherence_model = CoherenceModel(\n",
    "        model=lda_model,\n",
    "        texts=texts,\n",
    "        dictionary=dictionary,\n",
    "        coherence=coherence_type\n",
    "    )\n",
    "    return coherence_model.get_coherence()"
   ]
  },
  {
   "cell_type": "code",
   "execution_count": null,
   "metadata": {
    "id": "v020Pw7xqly7"
   },
   "outputs": [],
   "source": [
    "results = []\n",
    "\n",
    "for num_topics in range(10, 15):\n",
    "    lda_model = LdaModel(corpus, num_topics=num_topics, id2word=dictionary, passes=10)\n",
    "\n",
    "    perplexity_score = calculate_perplexity(lda_model, corpus)\n",
    "\n",
    "    coherence_score = calculate_coherence(lda_model, documents, dictionary, coherence_type='c_v')\n",
    "\n",
    "    results.append({\n",
    "        \"num_topics\": num_topics,\n",
    "        \"perplexity\": perplexity_score,\n",
    "        \"coherence_score\": coherence_score\n",
    "    })"
   ]
  },
  {
   "cell_type": "code",
   "execution_count": null,
   "metadata": {
    "colab": {
     "base_uri": "https://localhost:8080/",
     "height": 662
    },
    "executionInfo": {
     "elapsed": 905,
     "status": "ok",
     "timestamp": 1733125709490,
     "user": {
      "displayName": "Minh Tâm",
      "userId": "15300610458250452379"
     },
     "user_tz": -420
    },
    "id": "2fhyLWxlV2Uk",
    "outputId": "f7ae482f-881e-4871-f65a-1f11a23bcbe6"
   },
   "outputs": [
    {
     "name": "stderr",
     "output_type": "stream",
     "text": [
      "/usr/local/lib/python3.10/dist-packages/ipykernel/ipkernel.py:283: DeprecationWarning: `should_run_async` will not call `transform_cell` automatically in the future. Please pass the result to `transformed_cell` argument and any exception that happen during thetransform in `preprocessing_exc_tuple` in IPython 7.17 and above.\n",
      "  and should_run_async(code)\n"
     ]
    },
    {
     "data": {
      "image/png": "[encoded data removed]",
      "text/plain": [
       "<Figure size 1000x600 with 1 Axes>"
      ]
     },
     "metadata": {},
     "output_type": "display_data"
    }
   ],
   "source": [
    "import matplotlib.pyplot as plt\n",
    "\n",
    "results_df = pd.DataFrame(results)\n",
    "\n",
    "plt.figure(figsize=(10, 6))\n",
    "\n",
    "plt.plot(results_df['num_topics'], results_df['perplexity'], marker='o', label='Perplexity')\n",
    "\n",
    "plt.plot(results_df['num_topics'], results_df['coherence_score'], marker='o', label='Coherence Score')\n",
    "\n",
    "plt.title(\"So sánh Perplexity và Coherence Score theo số lượng chủ đề\", fontsize=14)\n",
    "plt.xlabel(\"Số lượng chủ đề (num_topics)\", fontsize=12)\n",
    "plt.ylabel(\"Giá trị\", fontsize=12)\n",
    "plt.legend(fontsize=12)\n",
    "plt.grid(alpha=0.5)\n",
    "plt.tight_layout()\n",
    "\n",
    "plt.show()"
   ]
  },
  {
   "cell_type": "markdown",
   "metadata": {
    "id": "UGOWXCf7coqj"
   },
   "source": [
    "## Thống kê chủ đề"
   ]
  },
  {
   "cell_type": "markdown",
   "metadata": {
    "id": "vkCcKJ64dJAz"
   },
   "source": [
    "### Thống kê theo số lượng"
   ]
  },
  {
   "cell_type": "code",
   "execution_count": null,
   "metadata": {
    "colab": {
     "base_uri": "https://localhost:8080/"
    },
    "executionInfo": {
     "elapsed": 67986,
     "status": "ok",
     "timestamp": 1733144021047,
     "user": {
      "displayName": "Minh Tâm",
      "userId": "15300610458250452379"
     },
     "user_tz": -420
    },
    "id": "nyIYgKANZ7Lx",
    "outputId": "26ac2d1c-18a4-4772-c165-536c51fe214b"
   },
   "outputs": [
    {
     "name": "stderr",
     "output_type": "stream",
     "text": [
      "/usr/local/lib/python3.10/dist-packages/ipykernel/ipkernel.py:283: DeprecationWarning: `should_run_async` will not call `transform_cell` automatically in the future. Please pass the result to `transformed_cell` argument and any exception that happen during thetransform in `preprocessing_exc_tuple` in IPython 7.17 and above.\n",
      "  and should_run_async(code)\n"
     ]
    },
    {
     "name": "stdout",
     "output_type": "stream",
     "text": [
      "\n",
      "Số lượng tài liệu thuộc mỗi chủ đề:\n",
      "Chủ đề 10: 7622 tài liệu\n",
      "Chủ đề 2: 7295 tài liệu\n",
      "Chủ đề 1: 18341 tài liệu\n",
      "Chủ đề 5: 7776 tài liệu\n",
      "Chủ đề 9: 4638 tài liệu\n",
      "Chủ đề 11: 6537 tài liệu\n",
      "Chủ đề 0: 8620 tài liệu\n",
      "Chủ đề 4: 5384 tài liệu\n",
      "Chủ đề 3: 11618 tài liệu\n",
      "Chủ đề 6: 9364 tài liệu\n",
      "Chủ đề 8: 8276 tài liệu\n",
      "Chủ đề 7: 4374 tài liệu\n",
      "\n",
      "Tổng số tài liệu: 99845\n"
     ]
    }
   ],
   "source": [
    "from collections import Counter\n",
    "\n",
    "def get_stat(lda_model, corpus):\n",
    "    stat = []\n",
    "    for doc_bow in corpus:\n",
    "        topic_probs = lda_model.get_document_topics(doc_bow)\n",
    "        stat_count = max(topic_probs, key=lambda x: x[1])[0]\n",
    "        stat.append(stat_count)\n",
    "    return stat\n",
    "\n",
    "stat = get_stat(lda_model, corpus)\n",
    "\n",
    "topic_counts = Counter(stat)\n",
    "\n",
    "print(\"\\nSố lượng tài liệu thuộc mỗi chủ đề:\")\n",
    "for topic, count in topic_counts.items():\n",
    "    print(f\"Chủ đề {topic}: {count} tài liệu\")\n",
    "\n",
    "print(f\"\\nTổng số tài liệu: {sum(topic_counts.values())}\")"
   ]
  },
  {
   "cell_type": "markdown",
   "metadata": {
    "id": "SRiGb4HYdGvp"
   },
   "source": [
    "### Biểu diễn phân phối"
   ]
  },
  {
   "cell_type": "code",
   "execution_count": null,
   "metadata": {
    "colab": {
     "base_uri": "https://localhost:8080/",
     "height": 662
    },
    "executionInfo": {
     "elapsed": 1104,
     "status": "ok",
     "timestamp": 1733144140672,
     "user": {
      "displayName": "Minh Tâm",
      "userId": "15300610458250452379"
     },
     "user_tz": -420
    },
    "id": "WSSA6dlHaNej",
    "outputId": "68498b6f-6bdb-4e5c-a219-6c9e5aa302d2"
   },
   "outputs": [
    {
     "name": "stderr",
     "output_type": "stream",
     "text": [
      "/usr/local/lib/python3.10/dist-packages/ipykernel/ipkernel.py:283: DeprecationWarning: `should_run_async` will not call `transform_cell` automatically in the future. Please pass the result to `transformed_cell` argument and any exception that happen during thetransform in `preprocessing_exc_tuple` in IPython 7.17 and above.\n",
      "  and should_run_async(code)\n"
     ]
    },
    {
     "data": {
      "image/png": "[encoded data removed]",
      "text/plain": [
       "<Figure size 1000x600 with 1 Axes>"
      ]
     },
     "metadata": {},
     "output_type": "display_data"
    }
   ],
   "source": [
    "import numpy as np\n",
    "import pandas as pd\n",
    "import matplotlib.pyplot as plt\n",
    "\n",
    "from collections import Counter\n",
    "\n",
    "def get_stat_distribution(lda_model, corpus):\n",
    "    topic_counts = Counter(stat)\n",
    "    total_docs = sum(topic_counts.values())\n",
    "\n",
    "    data = [\n",
    "        {\"Chủ đề\": f\"Chủ đề {topic}\", \"Số lượng tài liệu\": count, \"Phần trăm (%)\": (count / total_docs) * 100}\n",
    "        for topic, count in topic_counts.items()\n",
    "    ]\n",
    "    return pd.DataFrame(data)\n",
    "\n",
    "def plot_topic_distribution(topic_distribution_df):\n",
    "    plt.figure(figsize=(10, 6))\n",
    "    plt.bar(topic_distribution_df['Chủ đề'], topic_distribution_df['Số lượng tài liệu'], color='skyblue', alpha=0.75)\n",
    "    plt.title(\"Phân phối số lượng tài liệu theo Chủ đề\", fontsize=16)\n",
    "    plt.xlabel(\"Chủ đề\", fontsize=14)\n",
    "    plt.ylabel(\"Số lượng tài liệu\", fontsize=14)\n",
    "    plt.xticks(rotation=45, fontsize=12)\n",
    "    plt.grid(axis='y', alpha=0.3)\n",
    "    plt.tight_layout()\n",
    "    plt.show()\n",
    "\n",
    "num_topics = 12\n",
    "distribution_df = get_stat_distribution(lda_model, corpus)\n",
    "plot_topic_distribution(distribution_df)"
   ]
  },
  {
   "cell_type": "markdown",
   "metadata": {
    "id": "jknrNxyNc_LE"
   },
   "source": [
    "### Lấy ra 200 từ nổi bật"
   ]
  },
  {
   "cell_type": "code",
   "execution_count": null,
   "metadata": {
    "colab": {
     "base_uri": "https://localhost:8080/"
    },
    "executionInfo": {
     "elapsed": 454,
     "status": "ok",
     "timestamp": 1733144178602,
     "user": {
      "displayName": "Minh Tâm",
      "userId": "15300610458250452379"
     },
     "user_tz": -420
    },
    "id": "OM9l80XNdaDo",
    "outputId": "5638936a-aed5-4b22-8ade-b610ebc8b074"
   },
   "outputs": [
    {
     "name": "stdout",
     "output_type": "stream",
     "text": [
      "/content/drive/.shortcut-targets-by-id/1RRu-R6hm1MkKpo2-XcloxTBP7mzJuoJU/KPDLHLV /stats\n"
     ]
    },
    {
     "name": "stderr",
     "output_type": "stream",
     "text": [
      "/usr/local/lib/python3.10/dist-packages/ipykernel/ipkernel.py:283: DeprecationWarning: `should_run_async` will not call `transform_cell` automatically in the future. Please pass the result to `transformed_cell` argument and any exception that happen during thetransform in `preprocessing_exc_tuple` in IPython 7.17 and above.\n",
      "  and should_run_async(code)\n"
     ]
    }
   ],
   "source": [
    "%cd /content/drive/MyDrive/Data Mining Field-oriented/stats"
   ]
  },
  {
   "cell_type": "code",
   "execution_count": null,
   "metadata": {
    "colab": {
     "base_uri": "https://localhost:8080/"
    },
    "executionInfo": {
     "elapsed": 447,
     "status": "ok",
     "timestamp": 1733144184901,
     "user": {
      "displayName": "Minh Tâm",
      "userId": "15300610458250452379"
     },
     "user_tz": -420
    },
    "id": "pwsVG_Zgb0IC",
    "outputId": "4a775ecd-d55b-40c6-cd94-ccc05fb23428"
   },
   "outputs": [
    {
     "name": "stderr",
     "output_type": "stream",
     "text": [
      "/usr/local/lib/python3.10/dist-packages/ipykernel/ipkernel.py:283: DeprecationWarning: `should_run_async` will not call `transform_cell` automatically in the future. Please pass the result to `transformed_cell` argument and any exception that happen during thetransform in `preprocessing_exc_tuple` in IPython 7.17 and above.\n",
      "  and should_run_async(code)\n"
     ]
    },
    {
     "name": "stdout",
     "output_type": "stream",
     "text": [
      "Danh sách từ nổi bật đã được xuất ra file: topics_words_12.csv\n"
     ]
    }
   ],
   "source": [
    "def export_topics_to_csv(lda_model, num_topics, dictionary, output_file):\n",
    "    topics = {}\n",
    "    for topic_id in range(num_topics):\n",
    "        topic_words = lda_model.show_topic(topic_id, topn=200)\n",
    "        topics[f\"Chủ đề {topic_id}\"] = [word for word, weight in topic_words]\n",
    "\n",
    "    topic_df = pd.DataFrame.from_dict(topics, orient=\"index\").transpose()\n",
    "\n",
    "    topic_df.to_csv(output_file, index=False, encoding=\"utf-8-sig\")\n",
    "    print(f\"Danh sách từ nổi bật đã được xuất ra file: {output_file}\")\n",
    "\n",
    "output_file = \"topics_words_12.csv\"\n",
    "export_topics_to_csv(lda_model, num_topics, dictionary, output_file)"
   ]
  },
  {
   "cell_type": "markdown",
   "metadata": {
    "id": "4WT_0FBGnKdi"
   },
   "source": [
    "### Thống kê tài liệu theo các chủ đề ẩn"
   ]
  },
  {
   "cell_type": "code",
   "execution_count": null,
   "metadata": {
    "id": "CSCtlCGWhhYs"
   },
   "outputs": [],
   "source": [
    "%cd /content/drive/MyDrive/Data Mining Field-oriented/data/individual contribution/Tâm"
   ]
  },
  {
   "cell_type": "code",
   "execution_count": null,
   "metadata": {
    "colab": {
     "base_uri": "https://localhost:8080/"
    },
    "executionInfo": {
     "elapsed": 436,
     "status": "ok",
     "timestamp": 1733144191565,
     "user": {
      "displayName": "Minh Tâm",
      "userId": "15300610458250452379"
     },
     "user_tz": -420
    },
    "id": "_GshztZ1haHc",
    "outputId": "109fcfdb-df00-4db6-da18-532f59eaba94"
   },
   "outputs": [
    {
     "name": "stderr",
     "output_type": "stream",
     "text": [
      "/usr/local/lib/python3.10/dist-packages/ipykernel/ipkernel.py:283: DeprecationWarning: `should_run_async` will not call `transform_cell` automatically in the future. Please pass the result to `transformed_cell` argument and any exception that happen during thetransform in `preprocessing_exc_tuple` in IPython 7.17 and above.\n",
      "  and should_run_async(code)\n"
     ]
    }
   ],
   "source": [
    "def get_documents_topic_distribution_with_content(lda_model, corpus, num_topics, content_list, top_n=5):\n",
    "    data = []\n",
    "    for doc_index, doc_bow in enumerate(corpus):\n",
    "        topic_probs = lda_model.get_document_topics(doc_bow, minimum_probability=0)\n",
    "        topic_probs_sorted = sorted(topic_probs, key=lambda x: x[1], reverse=True)[:top_n]\n",
    "\n",
    "        row = {\"Tài liệu\": f\"Tài liệu {doc_index + 1}\", \"Nội dung\": content_list[doc_index]}\n",
    "        for i, (topic_id, prob) in enumerate(topic_probs_sorted):\n",
    "            row[f\"Chủ đề {i + 1}\"] = f\"Chủ đề {topic_id} ({prob:.2%})\"\n",
    "        data.append(row)\n",
    "    return pd.DataFrame(data)"
   ]
  },
  {
   "cell_type": "code",
   "execution_count": null,
   "metadata": {
    "colab": {
     "base_uri": "https://localhost:8080/"
    },
    "executionInfo": {
     "elapsed": 95443,
     "status": "ok",
     "timestamp": 1733144314906,
     "user": {
      "displayName": "Minh Tâm",
      "userId": "15300610458250452379"
     },
     "user_tz": -420
    },
    "id": "nlliPYQpiXsY",
    "outputId": "9675c468-cdf8-4b45-a30b-4ebba23f94a8"
   },
   "outputs": [
    {
     "name": "stderr",
     "output_type": "stream",
     "text": [
      "/usr/local/lib/python3.10/dist-packages/ipykernel/ipkernel.py:283: DeprecationWarning: `should_run_async` will not call `transform_cell` automatically in the future. Please pass the result to `transformed_cell` argument and any exception that happen during thetransform in `preprocessing_exc_tuple` in IPython 7.17 and above.\n",
      "  and should_run_async(code)\n"
     ]
    },
    {
     "name": "stdout",
     "output_type": "stream",
     "text": [
      "File đã được lưu: 12 chủ đề.csv\n"
     ]
    }
   ],
   "source": [
    "content_list = df['content'].tolist()\n",
    "\n",
    "top_n_topics = 5\n",
    "documents_topic_df_with_content = get_documents_topic_distribution_with_content(\n",
    "    lda_model, corpus, num_topics, content_list, top_n=top_n_topics\n",
    ")\n",
    "\n",
    "documents_with_content_output_file = \"12 chủ đề.csv\"\n",
    "documents_topic_df_with_content.to_csv(documents_with_content_output_file, index=False, encoding=\"utf-8-sig\")\n",
    "\n",
    "print(f\"File đã được lưu: {documents_with_content_output_file}\")"
   ]
  },
  {
   "cell_type": "markdown",
   "metadata": {
    "id": "CWHOwK6rnQDn"
   },
   "source": [
    "### Thống kê tài liệu bị nhập nhằng chủ đề (threshold = 5%)"
   ]
  },
  {
   "cell_type": "code",
   "execution_count": null,
   "metadata": {
    "colab": {
     "base_uri": "https://localhost:8080/"
    },
    "executionInfo": {
     "elapsed": 634,
     "status": "ok",
     "timestamp": 1733144436037,
     "user": {
      "displayName": "Minh Tâm",
      "userId": "15300610458250452379"
     },
     "user_tz": -420
    },
    "id": "MzA3cA9GmXS9",
    "outputId": "97989e21-e727-4800-9966-f100bbc2dba6"
   },
   "outputs": [
    {
     "name": "stderr",
     "output_type": "stream",
     "text": [
      "/usr/local/lib/python3.10/dist-packages/ipykernel/ipkernel.py:283: DeprecationWarning: `should_run_async` will not call `transform_cell` automatically in the future. Please pass the result to `transformed_cell` argument and any exception that happen during thetransform in `preprocessing_exc_tuple` in IPython 7.17 and above.\n",
      "  and should_run_async(code)\n"
     ]
    }
   ],
   "source": [
    "def extract_percentage(value):\n",
    "    import re\n",
    "    match = re.search(r\"\\(([\\d.]+)%\\)\", value)\n",
    "    return float(match.group(1)) if match else 0"
   ]
  },
  {
   "cell_type": "code",
   "execution_count": null,
   "metadata": {
    "colab": {
     "base_uri": "https://localhost:8080/"
    },
    "executionInfo": {
     "elapsed": 441,
     "status": "ok",
     "timestamp": 1733144444561,
     "user": {
      "displayName": "Minh Tâm",
      "userId": "15300610458250452379"
     },
     "user_tz": -420
    },
    "id": "2uWw0Q9ikD6n",
    "outputId": "194cc98e-1a05-4da7-c023-95c1522672e5"
   },
   "outputs": [
    {
     "name": "stderr",
     "output_type": "stream",
     "text": [
      "/usr/local/lib/python3.10/dist-packages/ipykernel/ipkernel.py:283: DeprecationWarning: `should_run_async` will not call `transform_cell` automatically in the future. Please pass the result to `transformed_cell` argument and any exception that happen during thetransform in `preprocessing_exc_tuple` in IPython 7.17 and above.\n",
      "  and should_run_async(code)\n"
     ]
    },
    {
     "name": "stdout",
     "output_type": "stream",
     "text": [
      "Tổng số tài liệu: 99845\n",
      "Số lượng tài liệu nhập nhằng: 8029\n",
      "Tỉ lệ tài liệu nhập nhằng: 8.04%\n"
     ]
    }
   ],
   "source": [
    "documents_topic_df_with_content[\"Chủ đề 1 (%)\"] = documents_topic_df_with_content[\"Chủ đề 1\"].apply(extract_percentage)\n",
    "documents_topic_df_with_content[\"Chủ đề 2 (%)\"] = documents_topic_df_with_content[\"Chủ đề 2\"].apply(extract_percentage)\n",
    "\n",
    "documents_topic_df_with_content[\"Chênh lệch (%)\"] = abs(documents_topic_df_with_content[\"Chủ đề 1 (%)\"] - documents_topic_df_with_content[\"Chủ đề 2 (%)\"])\n",
    "\n",
    "documents_topic_df_with_content[\"Nhập nhằng\"] = documents_topic_df_with_content[\"Chênh lệch (%)\"] < 5\n",
    "\n",
    "total_documents = len(documents_topic_df_with_content)\n",
    "ambiguous_documents = documents_topic_df_with_content[\"Nhập nhằng\"].sum()\n",
    "ambiguity_ratio = (ambiguous_documents / total_documents) * 100\n",
    "\n",
    "print(f\"Tổng số tài liệu: {total_documents}\")\n",
    "print(f\"Số lượng tài liệu nhập nhằng: {ambiguous_documents}\")\n",
    "print(f\"Tỉ lệ tài liệu nhập nhằng: {ambiguity_ratio:.2f}%\")"
   ]
  },
  {
   "cell_type": "code",
   "execution_count": null,
   "metadata": {
    "colab": {
     "base_uri": "https://localhost:8080/"
    },
    "executionInfo": {
     "elapsed": 13008,
     "status": "ok",
     "timestamp": 1733139706057,
     "user": {
      "displayName": "Minh Tâm",
      "userId": "15300610458250452379"
     },
     "user_tz": -420
    },
    "id": "Oe1r_jzBlWDI",
    "outputId": "706cee33-86a9-42da-cc44-42b6427042a3"
   },
   "outputs": [
    {
     "name": "stderr",
     "output_type": "stream",
     "text": [
      "<ipython-input-11-b16478d12937>:5: DtypeWarning: Columns (7,8,9,10,11,12,13,14,15,16,17,18,19,20,21,22,23,24,25,26,27,28,29,30,31,32,33,34,35,36,37,38,39,40,41,42,43,44,45,46,47,48,49,50,51,52,53,54,55,56,57,58,59,60,61,62,63,64,65,66,67,68,69,70,71,72,73,74,75,76,77,78,79,80,81,82,83,84,85,86,87,88,89,90,91,92,93,94,95,96,97,98,99,100,101,102,103,104,105,106,107,108,109,110,111,112,113,114,115,116,117,118,119,120,121,122,123,124,125,126,127,128,129,130,131,132,133,134,135,136,137,138,139,140,141,142,143,144,145,146,147,148,149,150,151,152,153,154,155,156,157,158,159,160,161,162,163,164,165,166,167,168,169,170,171,172,173,174,175,176,177,178,179,180,181,182,183,184,185,186,187,188,189,190,191,192,193,194,195,196,197,198,199,200,201,202,203,204,205,206,207) have mixed types. Specify dtype option on import or set low_memory=False.\n",
      "  documents_topic_df_with_content_14 = pd.read_csv(file_path)\n"
     ]
    },
    {
     "name": "stdout",
     "output_type": "stream",
     "text": [
      "Tổng số tài liệu: 99849\n",
      "Số lượng tài liệu nhập nhằng: 7769\n",
      "Tỉ lệ tài liệu nhập nhằng: 7.78%\n"
     ]
    }
   ],
   "source": [
    "import pandas as pd\n",
    "\n",
    "file_path = \"/content/drive/MyDrive/Data Mining Field-oriented/data/individual contribution/Tâm/thống kê nhập nhằng.csv\"\n",
    "\n",
    "documents_topic_df_with_content_14 = pd.read_csv(file_path)\n",
    "# print(documents_topic_df_with_content_14.head())\n",
    "\n",
    "documents_topic_df_with_content_14[\"Chủ đề 1\"] = documents_topic_df_with_content_14[\"Chủ đề 1\"].astype(str)\n",
    "documents_topic_df_with_content_14[\"Chủ đề 2\"] = documents_topic_df_with_content_14[\"Chủ đề 2\"].astype(str)\n",
    "\n",
    "documents_topic_df_with_content_14[\"Chủ đề 1 (%)\"] = documents_topic_df_with_content_14[\"Chủ đề 1\"].apply(extract_percentage)\n",
    "documents_topic_df_with_content_14[\"Chủ đề 2 (%)\"] = documents_topic_df_with_content_14[\"Chủ đề 2\"].apply(extract_percentage)\n",
    "\n",
    "documents_topic_df_with_content_14[\"Chênh lệch (%)\"] = abs(documents_topic_df_with_content_14[\"Chủ đề 1 (%)\"] - documents_topic_df_with_content_14[\"Chủ đề 2 (%)\"])\n",
    "\n",
    "documents_topic_df_with_content_14[\"Nhập nhằng\"] = documents_topic_df_with_content_14[\"Chênh lệch (%)\"] < 5\n",
    "\n",
    "total_documents = len(documents_topic_df_with_content_14)\n",
    "ambiguous_documents = documents_topic_df_with_content_14[\"Nhập nhằng\"].sum()\n",
    "ambiguity_ratio = (ambiguous_documents / total_documents) * 100\n",
    "\n",
    "print(f\"Tổng số tài liệu: {total_documents}\")\n",
    "print(f\"Số lượng tài liệu nhập nhằng: {ambiguous_documents}\")\n",
    "print(f\"Tỉ lệ tài liệu nhập nhằng: {ambiguity_ratio:.2f}%\")"
   ]
  },
  {
   "cell_type": "code",
   "execution_count": null,
   "metadata": {
    "colab": {
     "base_uri": "https://localhost:8080/"
    },
    "executionInfo": {
     "elapsed": 8349,
     "status": "ok",
     "timestamp": 1733140176582,
     "user": {
      "displayName": "Minh Tâm",
      "userId": "15300610458250452379"
     },
     "user_tz": -420
    },
    "id": "5RJWncKaJWRf",
    "outputId": "20d48b99-e527-49df-bd3d-710402549e98"
   },
   "outputs": [
    {
     "name": "stdout",
     "output_type": "stream",
     "text": [
      "\n",
      "Thống kê số lần nhập nhằng và trung bình chênh lệch (sắp xếp theo trung bình chênh lệch):\n",
      "nan - nan: 4 lần, Trung bình chênh lệch: 0.00%\n",
      " du_khách công_chúng; quy_định nhiệm_vụ giám_định hiện_vật -  sưu_tầm cổ_vật; quy_định nhiệm_vụ nghiên_cứu lập hồ_sơ khoa_học xếp_hạng di_tích di_sản văn_hoá phi vật_thể khoản 1 Điều 68 Dự_thảo luật. chính_sách đối_với nghệ_nhân: 1 lần, Trung bình chênh lệch: 0.00%\n",
      " Trưởng Ban Công_tác đại_biểu Uỷ_ban Thường_vụ Quốc_hội Nguyễn_Thanh_Hải Dự_kiến họp Kỳ họp tám 2110 -  phát_thanh trực_tiếp. công_tác nhân_sự: 2 lần, Trung bình chênh lệch: 0.00%\n",
      "Chủ đề 0 - Chủ đề 7: 1 lần, Trung bình chênh lệch: 0.00%\n",
      "Chủ đề 3 - Chủ đề 5: 3 lần, Trung bình chênh lệch: 0.34%\n",
      "Chủ đề 6 - Chủ đề 9: 1 lần, Trung bình chênh lệch: 0.39%\n",
      "Chủ đề 3 - Chủ đề 8: 2 lần, Trung bình chênh lệch: 0.45%\n",
      "Chủ đề 3 - Chủ đề 7: 1 lần, Trung bình chênh lệch: 0.77%\n",
      "Chủ đề 0 - Chủ đề 1: 259 lần, Trung bình chênh lệch: 0.98%\n",
      "Chủ đề 4 - Chủ đề 5: 5 lần, Trung bình chênh lệch: 1.04%\n",
      "Chủ đề 11 - Chủ đề 7: 1 lần, Trung bình chênh lệch: 1.55%\n",
      "Chủ đề 1 - Chủ đề 5: 19 lần, Trung bình chênh lệch: 1.82%\n",
      "Chủ đề 5 - Chủ đề 9: 17 lần, Trung bình chênh lệch: 1.94%\n",
      "Chủ đề 1 - Chủ đề 3: 18 lần, Trung bình chênh lệch: 2.04%\n",
      "Chủ đề 12 - Chủ đề 4: 8 lần, Trung bình chênh lệch: 2.07%\n",
      "Chủ đề 11 - Chủ đề 9: 20 lần, Trung bình chênh lệch: 2.08%\n",
      "Chủ đề 4 - Chủ đề 8: 72 lần, Trung bình chênh lệch: 2.11%\n",
      "Chủ đề 10 - Chủ đề 11: 36 lần, Trung bình chênh lệch: 2.17%\n",
      "Chủ đề 10 - Chủ đề 13: 115 lần, Trung bình chênh lệch: 2.21%\n",
      "Chủ đề 3 - Chủ đề 6: 66 lần, Trung bình chênh lệch: 2.22%\n",
      "Chủ đề 1 - Chủ đề 2: 238 lần, Trung bình chênh lệch: 2.22%\n",
      "Chủ đề 12 - Chủ đề 9: 160 lần, Trung bình chênh lệch: 2.26%\n",
      "Chủ đề 2 - Chủ đề 9: 292 lần, Trung bình chênh lệch: 2.28%\n",
      "Chủ đề 0 - Chủ đề 11: 45 lần, Trung bình chênh lệch: 2.28%\n",
      "Chủ đề 2 - Chủ đề 6: 53 lần, Trung bình chênh lệch: 2.29%\n",
      "Chủ đề 1 - Chủ đề 8: 8 lần, Trung bình chênh lệch: 2.29%\n",
      "Chủ đề 13 - Chủ đề 3: 136 lần, Trung bình chênh lệch: 2.30%\n",
      "Chủ đề 11 - Chủ đề 8: 24 lần, Trung bình chênh lệch: 2.31%\n",
      "Chủ đề 2 - Chủ đề 4: 188 lần, Trung bình chênh lệch: 2.31%\n",
      "Chủ đề 4 - Chủ đề 9: 141 lần, Trung bình chênh lệch: 2.32%\n",
      "Chủ đề 10 - Chủ đề 4: 145 lần, Trung bình chênh lệch: 2.32%\n",
      "Chủ đề 12 - Chủ đề 13: 69 lần, Trung bình chênh lệch: 2.33%\n",
      "Chủ đề 13 - Chủ đề 9: 104 lần, Trung bình chênh lệch: 2.35%\n",
      "Chủ đề 0 - Chủ đề 3: 255 lần, Trung bình chênh lệch: 2.36%\n",
      "Chủ đề 0 - Chủ đề 2: 265 lần, Trung bình chênh lệch: 2.37%\n",
      "Chủ đề 0 - Chủ đề 8: 43 lần, Trung bình chênh lệch: 2.37%\n",
      "Chủ đề 10 - Chủ đề 2: 320 lần, Trung bình chênh lệch: 2.38%\n",
      "Chủ đề 3 - Chủ đề 4: 83 lần, Trung bình chênh lệch: 2.38%\n",
      "Chủ đề 0 - Chủ đề 5: 100 lần, Trung bình chênh lệch: 2.39%\n",
      "Chủ đề 0 - Chủ đề 9: 163 lần, Trung bình chênh lệch: 2.41%\n",
      "Chủ đề 13 - Chủ đề 4: 57 lần, Trung bình chênh lệch: 2.41%\n",
      "Chủ đề 2 - Chủ đề 3: 317 lần, Trung bình chênh lệch: 2.41%\n",
      "Chủ đề 10 - Chủ đề 9: 249 lần, Trung bình chênh lệch: 2.41%\n",
      "Chủ đề 0 - Chủ đề 10: 225 lần, Trung bình chênh lệch: 2.42%\n",
      "Chủ đề 2 - Chủ đề 5: 91 lần, Trung bình chênh lệch: 2.44%\n",
      "Chủ đề 1 - Chủ đề 10: 389 lần, Trung bình chênh lệch: 2.44%\n",
      "Chủ đề 10 - Chủ đề 8: 219 lần, Trung bình chênh lệch: 2.45%\n",
      "Chủ đề 0 - Chủ đề 13: 180 lần, Trung bình chênh lệch: 2.47%\n",
      "Chủ đề 1 - Chủ đề 9: 23 lần, Trung bình chênh lệch: 2.48%\n",
      "Chủ đề 5 - Chủ đề 6: 51 lần, Trung bình chênh lệch: 2.48%\n",
      "Chủ đề 1 - Chủ đề 13: 96 lần, Trung bình chênh lệch: 2.48%\n",
      "Chủ đề 10 - Chủ đề 6: 27 lần, Trung bình chênh lệch: 2.48%\n",
      "Chủ đề 11 - Chủ đề 4: 10 lần, Trung bình chênh lệch: 2.50%\n",
      "Chủ đề 2 - Chủ đề 8: 28 lần, Trung bình chênh lệch: 2.50%\n",
      "Chủ đề 11 - Chủ đề 12: 106 lần, Trung bình chênh lệch: 2.51%\n",
      "Chủ đề 3 - Chủ đề 9: 193 lần, Trung bình chênh lệch: 2.51%\n",
      "Chủ đề 10 - Chủ đề 7: 7 lần, Trung bình chênh lệch: 2.51%\n",
      "Chủ đề 13 - Chủ đề 2: 170 lần, Trung bình chênh lệch: 2.51%\n",
      "Chủ đề 5 - Chủ đề 7: 4 lần, Trung bình chênh lệch: 2.51%\n",
      "Chủ đề 8 - Chủ đề 9: 48 lần, Trung bình chênh lệch: 2.52%\n",
      "Chủ đề 10 - Chủ đề 12: 151 lần, Trung bình chênh lệch: 2.56%\n",
      "Chủ đề 12 - Chủ đề 2: 297 lần, Trung bình chênh lệch: 2.56%\n",
      "Chủ đề 7 - Chủ đề 8: 5 lần, Trung bình chênh lệch: 2.57%\n",
      "Chủ đề 11 - Chủ đề 6: 173 lần, Trung bình chênh lệch: 2.57%\n",
      "Chủ đề 12 - Chủ đề 8: 12 lần, Trung bình chênh lệch: 2.58%\n",
      "Chủ đề 11 - Chủ đề 2: 188 lần, Trung bình chênh lệch: 2.58%\n",
      "Chủ đề 13 - Chủ đề 5: 78 lần, Trung bình chênh lệch: 2.58%\n",
      "Chủ đề 11 - Chủ đề 3: 82 lần, Trung bình chênh lệch: 2.59%\n",
      "Chủ đề 12 - Chủ đề 5: 147 lần, Trung bình chênh lệch: 2.60%\n",
      "Chủ đề 1 - Chủ đề 6: 47 lần, Trung bình chênh lệch: 2.60%\n",
      "Chủ đề 10 - Chủ đề 5: 76 lần, Trung bình chênh lệch: 2.60%\n",
      "Chủ đề 1 - Chủ đề 12: 46 lần, Trung bình chênh lệch: 2.63%\n",
      "Chủ đề 0 - Chủ đề 4: 17 lần, Trung bình chênh lệch: 2.64%\n",
      "Chủ đề 13 - Chủ đề 6: 13 lần, Trung bình chênh lệch: 2.67%\n",
      "Chủ đề 12 - Chủ đề 6: 27 lần, Trung bình chênh lệch: 2.68%\n",
      "Chủ đề 11 - Chủ đề 13: 47 lần, Trung bình chênh lệch: 2.71%\n",
      "Chủ đề 0 - Chủ đề 6: 35 lần, Trung bình chênh lệch: 2.75%\n",
      "Chủ đề 12 - Chủ đề 3: 4 lần, Trung bình chênh lệch: 2.75%\n",
      "Chủ đề 0 - Chủ đề 12: 32 lần, Trung bình chênh lệch: 2.76%\n",
      "Chủ đề 11 - Chủ đề 5: 38 lần, Trung bình chênh lệch: 2.78%\n",
      "Chủ đề 5 - Chủ đề 8: 227 lần, Trung bình chênh lệch: 2.80%\n",
      "Chủ đề 1 - Chủ đề 4: 7 lần, Trung bình chênh lệch: 2.89%\n",
      "Chủ đề 1 - Chủ đề 11: 17 lần, Trung bình chênh lệch: 2.92%\n",
      "Chủ đề 10 - Chủ đề 3: 15 lần, Trung bình chênh lệch: 3.01%\n",
      "Chủ đề 13 - Chủ đề 8: 12 lần, Trung bình chênh lệch: 3.22%\n",
      "Chủ đề 4 - Chủ đề 7: 1 lần, Trung bình chênh lệch: 3.87%\n",
      "Chủ đề 1 - Chủ đề 7: 2 lần, Trung bình chênh lệch: 4.00%\n"
     ]
    }
   ],
   "source": [
    "import pandas as pd\n",
    "from collections import Counter\n",
    "from collections import defaultdict\n",
    "\n",
    "def get_ambiguous_pair_without_percentage(row):\n",
    "    if row[\"Nhập nhằng\"]:\n",
    "        topic1 = row[\"Chủ đề 1\"].split(\" (\")[0]\n",
    "        topic2 = row[\"Chủ đề 2\"].split(\" (\")[0]\n",
    "        return tuple(sorted([topic1, topic2]))\n",
    "    return None\n",
    "\n",
    "documents_topic_df_with_content_14[\"Cặp nhập nhằng\"] = documents_topic_df_with_content_14.apply(get_ambiguous_pair_without_percentage, axis=1)\n",
    "ambiguous_pairs = documents_topic_df_with_content_14[\"Cặp nhập nhằng\"].dropna()\n",
    "\n",
    "pair_counts = Counter(ambiguous_pairs)\n",
    "\n",
    "grouped_pairs = Counter(pair_counts)\n",
    "grouped_pairs_sorted = sorted(grouped_pairs.items(), key=lambda x: x[1], reverse=True)\n",
    "\n",
    "total_ambiguous = sum(pair_counts.values())\n",
    "\n",
    "pair_differences = defaultdict(list)\n",
    "for _, row in documents_topic_df_with_content_14.iterrows():\n",
    "    if row[\"Cặp nhập nhằng\"]:\n",
    "        pair_differences[row[\"Cặp nhập nhằng\"]].append(row[\"Chênh lệch (%)\"])\n",
    "\n",
    "grouped_pairs_with_average = []\n",
    "for pair, differences in pair_differences.items():\n",
    "    avg_difference = sum(differences) / len(differences)\n",
    "    grouped_pairs_with_average.append((pair[0], pair[1], len(differences), avg_difference))\n",
    "\n",
    "grouped_pairs_with_average_sorted = sorted(grouped_pairs_with_average, key=lambda x: x[3])\n",
    "\n",
    "print(\"\\nThống kê số lần nhập nhằng và trung bình chênh lệch (sắp xếp theo trung bình chênh lệch):\")\n",
    "for topic1, topic2, total, avg_difference in grouped_pairs_with_average_sorted:\n",
    "    print(f\"{topic1} - {topic2}: {total} lần, Trung bình chênh lệch: {avg_difference:.2f}%\")"
   ]
  }
 ],
 "metadata": {
  "colab": {
   "authorship_tag": "ABX9TyMFlmtbBchx6gF/Zfxz4LWc",
   "provenance": [
    {
     "file_id": "1q00atNZ8sIw-UgXTqIeGa5A0MtzK5FF0",
     "timestamp": 1733148130712
    }
   ]
  },
  "kernelspec": {
   "display_name": "Python 3",
   "name": "python3"
  },
  "language_info": {
   "name": "python"
  }
 },
 "nbformat": 4,
 "nbformat_minor": 0
}
