{
 "cells": [
  {
   "cell_type": "markdown",
   "metadata": {
    "id": "_R3CJYfrlwku"
   },
   "source": [
    "# Kết nối Drive"
   ]
  },
  {
   "cell_type": "code",
   "execution_count": null,
   "metadata": {
    "colab": {
     "base_uri": "https://localhost:8080/"
    },
    "executionInfo": {
     "elapsed": 17989,
     "status": "ok",
     "timestamp": 1734183919031,
     "user": {
      "displayName": "Minh Tâm",
      "userId": "15300610458250452379"
     },
     "user_tz": -420
    },
    "id": "uB07n4RflTvM",
    "outputId": "441e8ce3-514c-4468-ec30-db012cac5f9c"
   },
   "outputs": [
    {
     "name": "stdout",
     "output_type": "stream",
     "text": [
      "Mounted at /content/drive\n"
     ]
    }
   ],
   "source": [
    "from google.colab import drive\n",
    "drive.mount('/content/drive')"
   ]
  },
  {
   "cell_type": "markdown",
   "metadata": {
    "id": "KdcCka6mlzVr"
   },
   "source": [
    "# Đọc dữ liệu"
   ]
  },
  {
   "cell_type": "code",
   "execution_count": null,
   "metadata": {
    "id": "5mqUVdXgl8JY"
   },
   "outputs": [],
   "source": [
    "import pandas as pd\n",
    "\n",
    "file_name = \"/content/drive/MyDrive/Data Mining Field-oriented/data/consolidated/topic/subtopic/Thời_trang_phong_cách.csv\"\n",
    "df = pd.read_csv(file_name, encoding=\"utf-8-sig\")"
   ]
  },
  {
   "cell_type": "code",
   "execution_count": null,
   "metadata": {
    "colab": {
     "base_uri": "https://localhost:8080/"
    },
    "executionInfo": {
     "elapsed": 497,
     "status": "ok",
     "timestamp": 1733464448718,
     "user": {
      "displayName": "Minh Tâm",
      "userId": "15300610458250452379"
     },
     "user_tz": -420
    },
    "id": "88OFn5psxpsg",
    "outputId": "d31502f3-09a6-445e-b4ee-3d908c6f80ad"
   },
   "outputs": [
    {
     "name": "stdout",
     "output_type": "stream",
     "text": [
      "     Tài liệu                                           Nội dung  \\\n",
      "0  Tài liệu 1  ngưỡng U40, thành_viên SNSD duy_trì nhan_sắc t...   \n",
      "1  Tài liệu 3  đây, sưu_tầm móc khoá Labubu trở_thành trào_lư...   \n",
      "2  Tài liệu 4  1. Pháo 810 điểm Pháo ghi_điểm kết_hợp trang_p...   \n",
      "\n",
      "                                                Tags            Chủ đề chính  \n",
      "0  U40,Tiffany,trang phục,tham khảo,dệt kim,trẻ t...  Thời trang, phong cách  \n",
      "1  Labubu,Huyền My,Lisa,BlackPink,Á hậu,đồ chơi,S...  Thời trang, phong cách  \n",
      "2  Lọ Lem,Lâm Minh,Ciin,xuyên thấu,húi cua,tạo hì...  Thời trang, phong cách  \n"
     ]
    }
   ],
   "source": [
    "print(df.head(3))"
   ]
  },
  {
   "cell_type": "markdown",
   "metadata": {
    "id": "eJM8adnFKi6R"
   },
   "source": [
    "# Trích xuất từ khóa cho toàn cụm"
   ]
  },
  {
   "cell_type": "markdown",
   "metadata": {
    "id": "xoekLEOvLNkR"
   },
   "source": [
    "## Hàm xóa stop words, số, loại bỏ từ đơn"
   ]
  },
  {
   "cell_type": "code",
   "execution_count": null,
   "metadata": {
    "id": "Fz41pJifLDK2"
   },
   "outputs": [],
   "source": [
    "import re\n",
    "\n",
    "def preprocess_text(text):\n",
    "    text = text.replace(',', ' , ').replace('.', ' . ')\n",
    "    text = re.sub(r'\\b\\d+\\b', '', text)\n",
    "    words = text.split()\n",
    "\n",
    "    processed_words = [' , ' if '_' not in word and word not in {',', '.'} else word for word in words]\n",
    "\n",
    "    return ' '.join(processed_words)"
   ]
  },
  {
   "cell_type": "code",
   "execution_count": null,
   "metadata": {
    "colab": {
     "base_uri": "https://localhost:8080/",
     "height": 88
    },
    "executionInfo": {
     "elapsed": 4,
     "status": "ok",
     "timestamp": 1733466829112,
     "user": {
      "displayName": "Minh Tâm",
      "userId": "15300610458250452379"
     },
     "user_tz": -420
    },
    "id": "jieIhNndkwaS",
    "outputId": "1de472fe-92af-4c4c-8501-c058a5801d66"
   },
   "outputs": [
    {
     "data": {
      "application/vnd.google.colaboratory.intrinsic+json": {
       "type": "string"
      },
      "text/plain": [
       "'phát_động ,  ,  Đại_sứ văn_hoá  ,  thu_hút ,  ,   ,   ,  học_sinh , sinh_viên ,  ,  cơ_sở giáo_dục  ,  tham_gia .  ,   ,   ,  sơ_khảo  ,   ,   ,   ,  tổ_chức . Kết_quả ,  ,  tổ_chức  ,  danh_hiệu Đại_sứ văn_hoá  ,  tiêu_biểu  ,   ,  ,  ,  ,  ,  , khuyến_khích  ,  chuyên_đề thí_sinh tham_gia .  ,  , Đồng_Nai  ,   ,  khuyến_khích Cù_Đặng_Bảo_Trân ,  ,  ,  ,   ,  Song_ngữ Á_Châu Nguyễn_Thái_Bình ,  ,   ,  ,  ,  trung_học_phổ_thông Lê_Quý_Đôn Tân_Mai , thành_phố Biên_Hoà'"
      ]
     },
     "execution_count": 174,
     "metadata": {},
     "output_type": "execute_result"
    }
   ],
   "source": [
    "preprocess_text(\"4 phát_động, thi Đại_sứ văn_hoá đọc 2024 thu_hút 1,6 triệu dự thi học_sinh, sinh_viên 9,2 ngàn cơ_sở giáo_dục nước tham_gia. 517 giải cao vòng sơ_khảo 60 tỉnh thành gửi Ban tổ_chức. Kết_quả, Ban tổ_chức trao 4 danh_hiệu Đại_sứ văn_hoá đọc tiêu_biểu 136 giải nhất, nhì, ba, khuyến_khích giải chuyên_đề thí_sinh tham_gia. đó, Đồng_Nai đoạt 2 giải khuyến_khích Cù_Đặng_Bảo_Trân, lớp 84, Trường THTHCSTHPT Song_ngữ Á_Châu Nguyễn_Thái_Bình, lớp 12C1, Trường trung_học_phổ_thông Lê_Quý_Đôn Tân_Mai, thành_phố Biên_Hoà\", vietnamese_stopwords)"
   ]
  },
  {
   "cell_type": "markdown",
   "metadata": {
    "id": "ocfR0dXnLQm2"
   },
   "source": [
    "## In ra từ khóa quan trọng\n",
    "t cũng chưa chắc lắm, chắc với mỗi cụm thì sẽ hiệu chỉnh khác nhau"
   ]
  },
  {
   "cell_type": "code",
   "execution_count": null,
   "metadata": {
    "colab": {
     "base_uri": "https://localhost:8080/"
    },
    "executionInfo": {
     "elapsed": 35204,
     "status": "ok",
     "timestamp": 1733464605270,
     "user": {
      "displayName": "Minh Tâm",
      "userId": "15300610458250452379"
     },
     "user_tz": -420
    },
    "id": "L15GDr8VKtNq",
    "outputId": "52852e3e-5005-4206-ea1f-96fbc1b5979b"
   },
   "outputs": [
    {
     "name": "stdout",
     "output_type": "stream",
     "text": [
      "Vocabulary chung từ TF-IDF (tối đa 100 từ): {'hiện_đại', 'việt_nam', 'lựa_chọn', 'màn_hình', 'điện_thoại', 'tính_năng', 'không_gian', 'khách_hàng', 'trang_phục', 'nổi_bật', 'trải_nghiệm', 'cảm_giác', 'ứng_dụng', 'thương_hiệu', 'thiết_kế', 'khả_năng', 'sản_phẩm', 'phong_cách', 'thời_trang', 'công_nghệ', 'dễ_dàng', 'kết_hợp', 'thiết_bị', 'phiên_bản', 'hệ_thống'}\n"
     ]
    }
   ],
   "source": [
    "import re\n",
    "from sklearn.feature_extraction.text import TfidfVectorizer\n",
    "\n",
    "text_column = \"Nội dung\"\n",
    "\n",
    "texts_in_cluster = df[text_column].dropna().tolist()\n",
    "texts_in_cluster = [\n",
    "    preprocess_text(text) for text in texts_in_cluster\n",
    "]\n",
    "\n",
    "vectorizer = TfidfVectorizer(max_features=25)\n",
    "vectorizer.fit(texts_in_cluster)\n",
    "cluster_vocab = set(vectorizer.get_feature_names_out())\n",
    "\n",
    "print(f\"Vocabulary chung từ TF-IDF (tối đa 100 từ): {cluster_vocab}\")"
   ]
  },
  {
   "cell_type": "markdown",
   "metadata": {
    "id": "cGJXT1IHbiiB"
   },
   "source": [
    "## Xem xét những từ khóa này có thuộc Tags chuẩn không"
   ]
  },
  {
   "cell_type": "code",
   "execution_count": null,
   "metadata": {
    "colab": {
     "base_uri": "https://localhost:8080/"
    },
    "executionInfo": {
     "elapsed": 620,
     "status": "ok",
     "timestamp": 1733464550264,
     "user": {
      "displayName": "Minh Tâm",
      "userId": "15300610458250452379"
     },
     "user_tz": -420
    },
    "id": "lciOYoqyZk5N",
    "outputId": "60b4cf9c-914c-46d5-9ab9-7f9f7ad0617e"
   },
   "outputs": [
    {
     "name": "stdout",
     "output_type": "stream",
     "text": [
      "Số từ trùng lặp: 22\n",
      "Tỷ lệ % trùng lặp: 88.00%\n"
     ]
    }
   ],
   "source": [
    "import pandas as pd\n",
    "\n",
    "clean_vocab = {word.replace(\"_\", \" \") for word in cluster_vocab}\n",
    "tags = df[\"Tags\"].dropna().str.split(\",\").explode().str.strip()\n",
    "\n",
    "unique_tags = set(tags)\n",
    "\n",
    "matching_words = clean_vocab & unique_tags\n",
    "\n",
    "overlap_percentage = len(matching_words) / len(clean_vocab) * 100\n",
    "\n",
    "print(f\"Số từ trùng lặp: {len(matching_words)}\")\n",
    "print(f\"Tỷ lệ % trùng lặp: {overlap_percentage:.2f}%\")"
   ]
  },
  {
   "cell_type": "code",
   "execution_count": null,
   "metadata": {
    "colab": {
     "base_uri": "https://localhost:8080/"
    },
    "executionInfo": {
     "elapsed": 1976,
     "status": "ok",
     "timestamp": 1733464619165,
     "user": {
      "displayName": "Minh Tâm",
      "userId": "15300610458250452379"
     },
     "user_tz": -420
    },
    "id": "GdozDtfAewYv",
    "outputId": "d1827101-6777-45fb-99af-8d8c97d58737"
   },
   "outputs": [
    {
     "name": "stdout",
     "output_type": "stream",
     "text": [
      "Số lần xuất hiện của từng từ trong clean_vocab:\n",
      "'thương hiệu': 68\n",
      "'việt nam': 0\n",
      "'công nghệ': 40\n",
      "'khách hàng': 13\n",
      "'hệ thống': 59\n",
      "'cảm giác': 5\n",
      "'thiết kế': 157\n",
      "'thời trang': 278\n",
      "'dễ dàng': 13\n",
      "'không gian': 368\n",
      "'thiết bị': 63\n",
      "'điện thoại': 163\n",
      "'ứng dụng': 48\n",
      "'kết hợp': 10\n",
      "'trải nghiệm': 92\n",
      "'phiên bản': 89\n",
      "'màn hình': 130\n",
      "'phong cách': 142\n",
      "'hiện đại': 48\n",
      "'lựa chọn': 22\n",
      "'sản phẩm': 33\n",
      "'nổi bật': 41\n",
      "'khả năng': 18\n",
      "'tính năng': 179\n",
      "'trang phục': 102\n",
      "Tổng số lần các từ trong clean_vocab xuất hiện: 2181\n",
      "Tỷ lệ so với tổng số tags: 3.13%\n"
     ]
    }
   ],
   "source": [
    "import pandas as pd\n",
    "\n",
    "clean_vocab = {word.replace(\"_\", \" \") for word in cluster_vocab}\n",
    "\n",
    "tags = df[\"Tags\"].dropna().str.split(\",\").explode().str.strip()\n",
    "\n",
    "word_counts = {word: tags.str.contains(fr'\\b{word}\\b', regex=True).sum() for word in clean_vocab}\n",
    "\n",
    "total_count = sum(word_counts.values())\n",
    "\n",
    "total_tags = len(tags)\n",
    "ratio = total_count / total_tags * 100\n",
    "\n",
    "print(\"Số lần xuất hiện của từng từ trong clean_vocab:\")\n",
    "for word, count in word_counts.items():\n",
    "    print(f\"'{word}': {count}\")\n",
    "\n",
    "print(f\"Tổng số lần các từ trong clean_vocab xuất hiện: {total_count}\")\n",
    "print(f\"Tỷ lệ so với tổng số tags: {ratio:.2f}%\")"
   ]
  },
  {
   "cell_type": "markdown",
   "metadata": {
    "id": "7EnHqoIKKtqA"
   },
   "source": [
    "# Chạy mô hình trích xuất từ khóa\n",
    "\n",
    "---\n",
    "\n"
   ]
  },
  {
   "cell_type": "markdown",
   "metadata": {
    "id": "6VbZY1QWoyzp"
   },
   "source": [
    "## Tính số lượng tags trung bình"
   ]
  },
  {
   "cell_type": "code",
   "execution_count": null,
   "metadata": {
    "id": "TgauW80Io4fh"
   },
   "outputs": [],
   "source": [
    "df['Tags'] = df['Tags'].astype(str)\n",
    "\n",
    "df['Word_Count'] = df['Tags'].apply(lambda x: len(x.split(',')))\n",
    "average_word_count = df['Word_Count'].mean()"
   ]
  },
  {
   "cell_type": "code",
   "execution_count": null,
   "metadata": {
    "colab": {
     "base_uri": "https://localhost:8080/"
    },
    "executionInfo": {
     "elapsed": 508,
     "status": "ok",
     "timestamp": 1733459408796,
     "user": {
      "displayName": "Minh Tâm",
      "userId": "15300610458250452379"
     },
     "user_tz": -420
    },
    "id": "R90qj7y2YCRn",
    "outputId": "0af778ef-5725-4eed-8e19-44ce4a8b9334"
   },
   "outputs": [
    {
     "name": "stdout",
     "output_type": "stream",
     "text": [
      "16.9873417721519\n"
     ]
    }
   ],
   "source": [
    "print(average_word_count)"
   ]
  },
  {
   "cell_type": "markdown",
   "metadata": {
    "id": "NS--1IIRovA2"
   },
   "source": [
    "# TextRank"
   ]
  },
  {
   "cell_type": "markdown",
   "metadata": {
    "id": "K8e5ANLui67I"
   },
   "source": [
    "## TextRank"
   ]
  },
  {
   "cell_type": "code",
   "execution_count": null,
   "metadata": {
    "id": "IDCV-W9a4UCL"
   },
   "outputs": [],
   "source": [
    "!pip3 install summa\n",
    "!pip3 install keybert\n",
    "!pip3 install gensim\n",
    "!pip3 install pytextrank"
   ]
  },
  {
   "cell_type": "code",
   "execution_count": null,
   "metadata": {
    "colab": {
     "base_uri": "https://localhost:8080/"
    },
    "executionInfo": {
     "elapsed": 264238,
     "status": "ok",
     "timestamp": 1733469884897,
     "user": {
      "displayName": "Minh Tâm",
      "userId": "15300610458250452379"
     },
     "user_tz": -420
    },
    "id": "JRGHVjN6Hb1t",
    "outputId": "8c914fb7-7e4c-4b51-e51d-1a03ede325d5"
   },
   "outputs": [
    {
     "name": "stderr",
     "output_type": "stream",
     "text": [
      "Processing Texts:   1%|          | 37/4108 [00:01<02:46, 24.47it/s]"
     ]
    },
    {
     "name": "stdout",
     "output_type": "stream",
     "text": [
      "Error processing text: list index out of range\n"
     ]
    },
    {
     "name": "stderr",
     "output_type": "stream",
     "text": [
      "Processing Texts:   1%|          | 47/4108 [00:01<02:21, 28.77it/s]"
     ]
    },
    {
     "name": "stdout",
     "output_type": "stream",
     "text": [
      "Error processing text: list index out of range\n"
     ]
    },
    {
     "name": "stderr",
     "output_type": "stream",
     "text": [
      "Processing Texts:   2%|▏         | 70/4108 [00:03<03:20, 20.14it/s]"
     ]
    },
    {
     "name": "stdout",
     "output_type": "stream",
     "text": [
      "Error processing text: list index out of range\n"
     ]
    },
    {
     "name": "stderr",
     "output_type": "stream",
     "text": [
      "Processing Texts:   3%|▎         | 103/4108 [00:05<03:17, 20.24it/s]"
     ]
    },
    {
     "name": "stdout",
     "output_type": "stream",
     "text": [
      "Error processing text: list index out of range\n"
     ]
    },
    {
     "name": "stderr",
     "output_type": "stream",
     "text": [
      "Processing Texts:   3%|▎         | 119/4108 [00:05<03:34, 18.60it/s]"
     ]
    },
    {
     "name": "stdout",
     "output_type": "stream",
     "text": [
      "Error processing text: list index out of range\n"
     ]
    },
    {
     "name": "stderr",
     "output_type": "stream",
     "text": [
      "Processing Texts:   3%|▎         | 133/4108 [00:08<12:22,  5.35it/s]"
     ]
    },
    {
     "name": "stdout",
     "output_type": "stream",
     "text": [
      "Error processing text: list index out of range\n"
     ]
    },
    {
     "name": "stderr",
     "output_type": "stream",
     "text": [
      "Processing Texts:   4%|▍         | 174/4108 [00:12<02:28, 26.50it/s]"
     ]
    },
    {
     "name": "stdout",
     "output_type": "stream",
     "text": [
      "Error processing text: list index out of range\n"
     ]
    },
    {
     "name": "stderr",
     "output_type": "stream",
     "text": [
      "Processing Texts:   5%|▍         | 203/4108 [00:14<04:54, 13.25it/s]"
     ]
    },
    {
     "name": "stdout",
     "output_type": "stream",
     "text": [
      "Error processing text: list index out of range\n"
     ]
    },
    {
     "name": "stderr",
     "output_type": "stream",
     "text": [
      "Processing Texts:   6%|▌         | 239/4108 [00:16<03:02, 21.16it/s]"
     ]
    },
    {
     "name": "stdout",
     "output_type": "stream",
     "text": [
      "Error processing text: list index out of range\n"
     ]
    },
    {
     "name": "stderr",
     "output_type": "stream",
     "text": [
      "Processing Texts:  12%|█▏        | 508/4108 [00:36<02:40, 22.36it/s]"
     ]
    },
    {
     "name": "stdout",
     "output_type": "stream",
     "text": [
      "Error processing text: list index out of range\n",
      "Error processing text: list index out of range\n"
     ]
    },
    {
     "name": "stderr",
     "output_type": "stream",
     "text": [
      "Processing Texts:  14%|█▍        | 581/4108 [00:43<03:30, 16.72it/s]"
     ]
    },
    {
     "name": "stdout",
     "output_type": "stream",
     "text": [
      "Error processing text: list index out of range\n"
     ]
    },
    {
     "name": "stderr",
     "output_type": "stream",
     "text": [
      "Processing Texts:  16%|█▋        | 669/4108 [00:50<04:10, 13.73it/s]"
     ]
    },
    {
     "name": "stdout",
     "output_type": "stream",
     "text": [
      "Error processing text: list index out of range\n",
      "Error processing text: list index out of range\n"
     ]
    },
    {
     "name": "stderr",
     "output_type": "stream",
     "text": [
      "Processing Texts:  17%|█▋        | 706/4108 [00:52<03:06, 18.28it/s]"
     ]
    },
    {
     "name": "stdout",
     "output_type": "stream",
     "text": [
      "Error processing text: list index out of range\n"
     ]
    },
    {
     "name": "stderr",
     "output_type": "stream",
     "text": [
      "Processing Texts:  19%|█▊        | 765/4108 [00:59<02:47, 19.95it/s]"
     ]
    },
    {
     "name": "stdout",
     "output_type": "stream",
     "text": [
      "Error processing text: list index out of range\n"
     ]
    },
    {
     "name": "stderr",
     "output_type": "stream",
     "text": [
      "Processing Texts:  19%|█▉        | 776/4108 [00:59<02:22, 23.32it/s]"
     ]
    },
    {
     "name": "stdout",
     "output_type": "stream",
     "text": [
      "Error processing text: list index out of range\n"
     ]
    },
    {
     "name": "stderr",
     "output_type": "stream",
     "text": [
      "Processing Texts:  19%|█▉        | 791/4108 [01:00<02:44, 20.18it/s]"
     ]
    },
    {
     "name": "stdout",
     "output_type": "stream",
     "text": [
      "Error processing text: list index out of range\n",
      "Error processing text: list index out of range\n"
     ]
    },
    {
     "name": "stderr",
     "output_type": "stream",
     "text": [
      "Processing Texts:  21%|██        | 854/4108 [01:04<03:12, 16.86it/s]"
     ]
    },
    {
     "name": "stdout",
     "output_type": "stream",
     "text": [
      "Error processing text: list index out of range\n"
     ]
    },
    {
     "name": "stderr",
     "output_type": "stream",
     "text": [
      "Processing Texts:  21%|██        | 869/4108 [01:04<02:17, 23.48it/s]"
     ]
    },
    {
     "name": "stdout",
     "output_type": "stream",
     "text": [
      "Error processing text: list index out of range\n"
     ]
    },
    {
     "name": "stderr",
     "output_type": "stream",
     "text": [
      "Processing Texts:  24%|██▎       | 967/4108 [01:13<04:05, 12.79it/s]"
     ]
    },
    {
     "name": "stdout",
     "output_type": "stream",
     "text": [
      "Error processing text: list index out of range\n"
     ]
    },
    {
     "name": "stderr",
     "output_type": "stream",
     "text": [
      "Processing Texts:  27%|██▋       | 1095/4108 [01:21<01:50, 27.19it/s]"
     ]
    },
    {
     "name": "stdout",
     "output_type": "stream",
     "text": [
      "Error processing text: list index out of range\n"
     ]
    },
    {
     "name": "stderr",
     "output_type": "stream",
     "text": [
      "Processing Texts:  46%|████▌     | 1884/4108 [02:10<01:50, 20.18it/s]"
     ]
    },
    {
     "name": "stdout",
     "output_type": "stream",
     "text": [
      "Error processing text: list index out of range\n"
     ]
    },
    {
     "name": "stderr",
     "output_type": "stream",
     "text": [
      "Processing Texts:  48%|████▊     | 1974/4108 [02:18<02:22, 15.01it/s]"
     ]
    },
    {
     "name": "stdout",
     "output_type": "stream",
     "text": [
      "Error processing text: list index out of range\n",
      "Error processing text: list index out of range\n"
     ]
    },
    {
     "name": "stderr",
     "output_type": "stream",
     "text": [
      "Processing Texts:  56%|█████▌    | 2287/4108 [02:38<01:18, 23.30it/s]"
     ]
    },
    {
     "name": "stdout",
     "output_type": "stream",
     "text": [
      "Error processing text: list index out of range\n"
     ]
    },
    {
     "name": "stderr",
     "output_type": "stream",
     "text": [
      "Processing Texts:  58%|█████▊    | 2369/4108 [02:44<02:02, 14.21it/s]"
     ]
    },
    {
     "name": "stdout",
     "output_type": "stream",
     "text": [
      "Error processing text: list index out of range\n"
     ]
    },
    {
     "name": "stderr",
     "output_type": "stream",
     "text": [
      "Processing Texts:  58%|█████▊    | 2373/4108 [02:44<02:33, 11.29it/s]"
     ]
    },
    {
     "name": "stdout",
     "output_type": "stream",
     "text": [
      "Error processing text: list index out of range\n"
     ]
    },
    {
     "name": "stderr",
     "output_type": "stream",
     "text": [
      "Processing Texts:  60%|██████    | 2466/4108 [02:51<01:04, 25.39it/s]"
     ]
    },
    {
     "name": "stdout",
     "output_type": "stream",
     "text": [
      "Error processing text: list index out of range\n"
     ]
    },
    {
     "name": "stderr",
     "output_type": "stream",
     "text": [
      "Processing Texts:  60%|██████    | 2478/4108 [02:52<01:07, 24.03it/s]"
     ]
    },
    {
     "name": "stdout",
     "output_type": "stream",
     "text": [
      "Error processing text: list index out of range\n"
     ]
    },
    {
     "name": "stderr",
     "output_type": "stream",
     "text": [
      "Processing Texts:  63%|██████▎   | 2584/4108 [02:57<00:48, 31.15it/s]"
     ]
    },
    {
     "name": "stdout",
     "output_type": "stream",
     "text": [
      "Error processing text: list index out of range\n",
      "Error processing text: list index out of range\n"
     ]
    },
    {
     "name": "stderr",
     "output_type": "stream",
     "text": [
      "Processing Texts:  64%|██████▎   | 2611/4108 [02:59<01:33, 16.07it/s]"
     ]
    },
    {
     "name": "stdout",
     "output_type": "stream",
     "text": [
      "Error processing text: list index out of range\n"
     ]
    },
    {
     "name": "stderr",
     "output_type": "stream",
     "text": [
      "Processing Texts:  65%|██████▌   | 2675/4108 [03:04<00:57, 24.84it/s]"
     ]
    },
    {
     "name": "stdout",
     "output_type": "stream",
     "text": [
      "Error processing text: list index out of range\n"
     ]
    },
    {
     "name": "stderr",
     "output_type": "stream",
     "text": [
      "Processing Texts:  65%|██████▌   | 2685/4108 [03:04<00:56, 25.34it/s]"
     ]
    },
    {
     "name": "stdout",
     "output_type": "stream",
     "text": [
      "Error processing text: list index out of range\n"
     ]
    },
    {
     "name": "stderr",
     "output_type": "stream",
     "text": [
      "Processing Texts:  66%|██████▌   | 2712/4108 [03:05<00:54, 25.67it/s]"
     ]
    },
    {
     "name": "stdout",
     "output_type": "stream",
     "text": [
      "Error processing text: list index out of range\n"
     ]
    },
    {
     "name": "stderr",
     "output_type": "stream",
     "text": [
      "Processing Texts:  73%|███████▎  | 3005/4108 [03:20<00:38, 28.76it/s]"
     ]
    },
    {
     "name": "stdout",
     "output_type": "stream",
     "text": [
      "Error processing text: list index out of range\n"
     ]
    },
    {
     "name": "stderr",
     "output_type": "stream",
     "text": [
      "Processing Texts:  78%|███████▊  | 3189/4108 [03:27<00:35, 25.91it/s]"
     ]
    },
    {
     "name": "stdout",
     "output_type": "stream",
     "text": [
      "Error processing text: list index out of range\n"
     ]
    },
    {
     "name": "stderr",
     "output_type": "stream",
     "text": [
      "Processing Texts:  78%|███████▊  | 3206/4108 [03:29<01:15, 11.89it/s]"
     ]
    },
    {
     "name": "stdout",
     "output_type": "stream",
     "text": [
      "Error processing text: list index out of range\n"
     ]
    },
    {
     "name": "stderr",
     "output_type": "stream",
     "text": [
      "Processing Texts:  80%|███████▉  | 3268/4108 [03:33<00:53, 15.77it/s]"
     ]
    },
    {
     "name": "stdout",
     "output_type": "stream",
     "text": [
      "Error processing text: list index out of range\n"
     ]
    },
    {
     "name": "stderr",
     "output_type": "stream",
     "text": [
      "Processing Texts:  81%|████████  | 3320/4108 [03:35<00:24, 31.88it/s]"
     ]
    },
    {
     "name": "stdout",
     "output_type": "stream",
     "text": [
      "Error processing text: list index out of range\n",
      "Error processing text: list index out of range\n"
     ]
    },
    {
     "name": "stderr",
     "output_type": "stream",
     "text": [
      "Processing Texts:  83%|████████▎ | 3418/4108 [03:39<00:25, 26.78it/s]"
     ]
    },
    {
     "name": "stdout",
     "output_type": "stream",
     "text": [
      "Error processing text: list index out of range\n"
     ]
    },
    {
     "name": "stderr",
     "output_type": "stream",
     "text": [
      "Processing Texts:  87%|████████▋ | 3562/4108 [03:49<00:36, 14.80it/s]"
     ]
    },
    {
     "name": "stdout",
     "output_type": "stream",
     "text": [
      "Error processing text: list index out of range\n"
     ]
    },
    {
     "name": "stderr",
     "output_type": "stream",
     "text": [
      "Processing Texts:  89%|████████▉ | 3656/4108 [03:53<00:15, 29.22it/s]"
     ]
    },
    {
     "name": "stdout",
     "output_type": "stream",
     "text": [
      "Error processing text: list index out of range\n"
     ]
    },
    {
     "name": "stderr",
     "output_type": "stream",
     "text": [
      "Processing Texts:  92%|█████████▏| 3776/4108 [04:01<01:43,  3.19it/s]"
     ]
    },
    {
     "name": "stdout",
     "output_type": "stream",
     "text": [
      "Error processing text: list index out of range\n"
     ]
    },
    {
     "name": "stderr",
     "output_type": "stream",
     "text": [
      "Processing Texts:  99%|█████████▊| 4048/4108 [04:20<00:03, 19.77it/s]"
     ]
    },
    {
     "name": "stdout",
     "output_type": "stream",
     "text": [
      "Error processing text: list index out of range\n",
      "Error processing text: list index out of range\n"
     ]
    },
    {
     "name": "stderr",
     "output_type": "stream",
     "text": [
      "Processing Texts: 100%|██████████| 4108/4108 [04:23<00:00, 15.57it/s]"
     ]
    },
    {
     "name": "stdout",
     "output_type": "stream",
     "text": [
      "Error processing text: list index out of range\n"
     ]
    },
    {
     "name": "stderr",
     "output_type": "stream",
     "text": [
      "\n"
     ]
    }
   ],
   "source": [
    "from summa import keywords\n",
    "from tqdm import tqdm\n",
    "\n",
    "results = []\n",
    "texts_in_cluster = df[text_column].dropna().tolist()\n",
    "\n",
    "for text in tqdm(texts_in_cluster, desc=\"Processing Texts\"):\n",
    "    text = preprocess_text(text, vietnamese_stopwords)\n",
    "    try:\n",
    "        doc_keywords = keywords.keywords(text, words=16, split=True)\n",
    "    except Exception as e:\n",
    "        print(f\"Error processing text: {e}\")\n",
    "        doc_keywords = []\n",
    "\n",
    "    if isinstance(doc_keywords, dict):\n",
    "        doc_keywords = list(doc_keywords.keys())\n",
    "    elif not isinstance(doc_keywords, list):\n",
    "        doc_keywords = []\n",
    "\n",
    "    for word in cluster_vocab:\n",
    "        if word in text and word not in doc_keywords:\n",
    "            doc_keywords.append(word)\n",
    "\n",
    "    results.append({\n",
    "        'Text': text,\n",
    "        'Keywords': ', '.join(doc_keywords)\n",
    "    })\n",
    "\n",
    "result_df = pd.DataFrame(results)"
   ]
  },
  {
   "cell_type": "code",
   "execution_count": null,
   "metadata": {
    "id": "rBhtMEwKp_mH"
   },
   "outputs": [],
   "source": [
    "def remove_duplicates(keywords):\n",
    "    unique_keywords = list(dict.fromkeys([word.strip() for word in keywords.split(',')]))\n",
    "    return ', '.join(unique_keywords)\n",
    "\n",
    "result_df['Keywords'] = result_df['Keywords'].apply(remove_duplicates)"
   ]
  },
  {
   "cell_type": "code",
   "execution_count": null,
   "metadata": {
    "colab": {
     "base_uri": "https://localhost:8080/"
    },
    "executionInfo": {
     "elapsed": 2,
     "status": "ok",
     "timestamp": 1733469925750,
     "user": {
      "displayName": "Minh Tâm",
      "userId": "15300610458250452379"
     },
     "user_tz": -420
    },
    "id": "Fh6ktl4x7I59",
    "outputId": "cf1ba092-24f2-416b-8744-84bac3d9581d"
   },
   "outputs": [
    {
     "name": "stdout",
     "output_type": "stream",
     "text": [
      "                                                Text  \\\n",
      "0   ,   ,  , thành_viên  ,  duy_trì nhan_sắc trẻ_...   \n",
      "1   ,  , sưu_tầm  ,   ,   ,  trào_lưu  ,   ,  ,  ...   \n",
      "2  .  ,   ,   ,  ghi_điểm kết_hợp trang_phục ấn_t...   \n",
      "\n",
      "                                            Keywords  \n",
      "0  trẻ_trung, trang_phục, chân_váy, kết_hợp, tinh...  \n",
      "1  phiên_bản, huyền_my, phụ_kiện, nhân_vật, độc_đ...  \n",
      "2  kết_hợp trang_phục ấn_tượng mái_tóc, trào_lưu,...  \n"
     ]
    }
   ],
   "source": [
    "print(result_df.head(3))"
   ]
  },
  {
   "cell_type": "code",
   "execution_count": null,
   "metadata": {
    "id": "X67BNVU6qK0k"
   },
   "outputs": [],
   "source": [
    "output_file = \"/content/drive/MyDrive/Data Mining Field-oriented/output/Thời_trang_phong_cách_with_Keywords_TextRank.csv\"\n",
    "result_df.to_csv(output_file, index=False, encoding='utf-8-sig')"
   ]
  },
  {
   "cell_type": "markdown",
   "metadata": {
    "id": "ohQRX4tXrd6-"
   },
   "source": [
    "# Đánh giá"
   ]
  },
  {
   "cell_type": "markdown",
   "metadata": {
    "id": "66X8OoSIrg2s"
   },
   "source": [
    "## Chuẩn hóa các Keywords và Tags"
   ]
  },
  {
   "cell_type": "code",
   "execution_count": null,
   "metadata": {
    "id": "MSmDMKFZ7Wsd"
   },
   "outputs": [],
   "source": [
    "try:\n",
    "    if \"Keywords\" in result_df.columns:\n",
    "        result_df[\"Keywords\"] = result_df[\"Keywords\"].str.replace(\"_\", \" \")\n",
    "    else:\n",
    "        print(\"The column 'Keywords' does not exist in the DataFrame.\")\n",
    "except Exception as e:\n",
    "    print(f\"Error: {e}\")\n",
    "\n",
    "result_df[\"Keywords\"] = result_df[\"Keywords\"].str.lower()\n",
    "df[\"Tags\"] = df[\"Tags\"].str.lower()"
   ]
  },
  {
   "cell_type": "code",
   "execution_count": null,
   "metadata": {
    "colab": {
     "base_uri": "https://localhost:8080/"
    },
    "executionInfo": {
     "elapsed": 1,
     "status": "ok",
     "timestamp": 1733469931222,
     "user": {
      "displayName": "Minh Tâm",
      "userId": "15300610458250452379"
     },
     "user_tz": -420
    },
    "id": "RJC000hcrt1I",
    "outputId": "c0526c01-32b2-46e5-fe88-7d861c3a95b3"
   },
   "outputs": [
    {
     "name": "stdout",
     "output_type": "stream",
     "text": [
      "                                            Keywords\n",
      "0  trẻ trung, trang phục, chân váy, kết hợp, tinh...\n",
      "1  phiên bản, huyền my, phụ kiện, nhân vật, độc đ...\n",
      "2  kết hợp trang phục ấn tượng mái tóc, trào lưu,...\n",
      "3  carpet check, chi tiết, trang phục, trang sức,...\n",
      "4  chị em, trang phục, mũi nhọn, búp bê, cảm giác...\n",
      "0    u40,tiffany,trang phục,tham khảo,dệt kim,trẻ t...\n",
      "1    labubu,huyền my,lisa,blackpink,á hậu,đồ chơi,s...\n",
      "2    lọ lem,lâm minh,ciin,xuyên thấu,húi cua,tạo hì...\n",
      "3    quế anh,mai ngô,carpet check,lăng xê,miss gran...\n",
      "4    mùa thu,mule,jane,sành điệu,sắm,chị em,giày,xu...\n",
      "Name: Tags, dtype: object\n"
     ]
    }
   ],
   "source": [
    "print(result_df[[\"Keywords\"]].head())\n",
    "print(df[\"Tags\"].head())"
   ]
  },
  {
   "cell_type": "markdown",
   "metadata": {
    "id": "xHK6tLv6r6cO"
   },
   "source": [
    "## Số lượng tag trùng khớp"
   ]
  },
  {
   "cell_type": "code",
   "execution_count": null,
   "metadata": {
    "id": "ab03btbH_jpv"
   },
   "outputs": [],
   "source": [
    "total_common_words = 0"
   ]
  },
  {
   "cell_type": "code",
   "execution_count": null,
   "metadata": {
    "colab": {
     "base_uri": "https://localhost:8080/"
    },
    "executionInfo": {
     "elapsed": 418,
     "status": "ok",
     "timestamp": 1733469935440,
     "user": {
      "displayName": "Minh Tâm",
      "userId": "15300610458250452379"
     },
     "user_tz": -420
    },
    "id": "5e3QJKFG7yk-",
    "outputId": "68ae0e75-aae6-41b6-875d-c552351912b8"
   },
   "outputs": [
    {
     "name": "stdout",
     "output_type": "stream",
     "text": [
      "Total Common Words: 12133\n"
     ]
    }
   ],
   "source": [
    "result_df[\"Keywords\"] = result_df[\"Keywords\"].str.lower()\n",
    "df[\"Tags\"] = df[\"Tags\"].str.lower()\n",
    "\n",
    "import re\n",
    "\n",
    "result_df[\"Keywords\"] = result_df[\"Keywords\"].apply(\n",
    "    lambda x: \", \".join([word for word in re.split(r\",\\s*\", x) if not word.isdigit()]) if pd.notnull(x) else x\n",
    ")\n",
    "\n",
    "total_common_words = 0\n",
    "\n",
    "def compare_keywords_and_tags(keywords, tags):\n",
    "    global total_common_words\n",
    "    if pd.isnull(keywords) or pd.isnull(tags):\n",
    "        return \"\"\n",
    "    keywords_set = set(word.strip() for word in keywords.split(\",\"))\n",
    "    tags_set = set(word.strip() for word in tags.split(\",\"))\n",
    "    common_words = keywords_set.intersection(tags_set)\n",
    "    num_common_words = len(common_words)\n",
    "    total_common_words += num_common_words\n",
    "    # print(\"Common Words:\", common_words)\n",
    "    return \", \".join(common_words)\n",
    "\n",
    "result_df[\"Common Words\"] = result_df[\"Keywords\"].combine(\n",
    "    df[\"Tags\"], compare_keywords_and_tags\n",
    ")\n",
    "\n",
    "print(\"Total Common Words:\", total_common_words)"
   ]
  },
  {
   "cell_type": "markdown",
   "metadata": {
    "id": "ohqhgTqLuN2w"
   },
   "source": [
    "## Micro Metrics"
   ]
  },
  {
   "cell_type": "code",
   "execution_count": null,
   "metadata": {
    "id": "zs4h5YIEujVT"
   },
   "outputs": [],
   "source": [
    "def calculate_metrics(keywords, tags):\n",
    "    if pd.isnull(keywords) or pd.isnull(tags):\n",
    "        return 0, 0, 0, 0, 0, 0\n",
    "\n",
    "    keywords_set = set(word.strip() for word in keywords.split(\",\"))\n",
    "    tags_set = set(word.strip() for word in tags.split(\",\"))\n",
    "\n",
    "    common_words = keywords_set.intersection(tags_set)\n",
    "    num_common = len(common_words)\n",
    "\n",
    "    precision = num_common / len(keywords_set) if len(keywords_set) > 0 else 0\n",
    "    recall = num_common / len(tags_set) if len(tags_set) > 0 else 0\n",
    "    f1 = (2 * precision * recall) / (precision + recall) if (precision + recall) > 0 else 0\n",
    "\n",
    "    tp = num_common\n",
    "    fp = len(keywords_set - tags_set)\n",
    "    fn = len(tags_set - keywords_set)\n",
    "\n",
    "    return precision, recall, f1, tp, fp, fn"
   ]
  },
  {
   "cell_type": "code",
   "execution_count": null,
   "metadata": {
    "colab": {
     "base_uri": "https://localhost:8080/"
    },
    "executionInfo": {
     "elapsed": 1551,
     "status": "ok",
     "timestamp": 1733469939953,
     "user": {
      "displayName": "Minh Tâm",
      "userId": "15300610458250452379"
     },
     "user_tz": -420
    },
    "id": "qAD9AGvuuSxw",
    "outputId": "ec762ea5-e853-430f-a1f9-3fc3c2d0a644"
   },
   "outputs": [
    {
     "name": "stdout",
     "output_type": "stream",
     "text": [
      "Micro Precision: 0.17\n",
      "Micro Recall: 0.17\n",
      "Micro F1-Score: 0.17\n"
     ]
    }
   ],
   "source": [
    "result_df[[\"Precision\", \"Recall\", \"F1-Score\", \"TP\", \"FP\", \"FN\"]] = result_df.apply(\n",
    "    lambda row: pd.Series(\n",
    "        calculate_metrics(\n",
    "            row[\"Keywords\"],\n",
    "            df.loc[row.name, \"Tags\"]\n",
    "        )\n",
    "    ),\n",
    "    axis=1\n",
    ")\n",
    "\n",
    "total_tp = result_df[\"TP\"].sum()\n",
    "total_fp = result_df[\"FP\"].sum()\n",
    "total_fn = result_df[\"FN\"].sum()\n",
    "\n",
    "micro_precision = total_tp / (total_tp + total_fp) if (total_tp + total_fp) > 0 else 0\n",
    "micro_recall = total_tp / (total_tp + total_fn) if (total_tp + total_fn) > 0 else 0\n",
    "micro_f1 = (2 * micro_precision * micro_recall) / (micro_precision + micro_recall) if (micro_precision + micro_recall) > 0 else 0\n",
    "\n",
    "print(f\"Micro Precision: {micro_precision:.2f}\")\n",
    "print(f\"Micro Recall: {micro_recall:.2f}\")\n",
    "print(f\"Micro F1-Score: {micro_f1:.2f}\")"
   ]
  }
 ],
 "metadata": {
  "colab": {
   "authorship_tag": "ABX9TyM5y45gcimbmawdumRx7vs7",
   "provenance": [
    {
     "file_id": "1AJ0fWTc2_YzQfbXdF0s7X_ZYpL81Tks3",
     "timestamp": 1734184053347
    },
    {
     "file_id": "1oV7OlI-mFLLIlOyasJwm0YagssPUOlgs",
     "timestamp": 1733325017021
    },
    {
     "file_id": "1NcC9HhgB2jg5a_S7nOcx_Wb5PIhB1x8o",
     "timestamp": 1733323959535
    },
    {
     "file_id": "1YOXLHGAzfdFBH82KWaMtLMJkI4x13jxu",
     "timestamp": 1733295559905
    }
   ]
  },
  "kernelspec": {
   "display_name": "Python 3",
   "name": "python3"
  },
  "language_info": {
   "name": "python"
  }
 },
 "nbformat": 4,
 "nbformat_minor": 0
}
